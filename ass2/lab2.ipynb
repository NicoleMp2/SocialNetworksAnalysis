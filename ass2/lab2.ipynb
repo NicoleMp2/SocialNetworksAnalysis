{
  "cells": [
    {
      "cell_type": "markdown",
      "metadata": {
        "id": "LFj8qLyY4tFh"
      },
      "source": [
        "<h2>2<sup>η</sup> Εργαστηριακή Άσκηση</h2>\n",
        "\n",
        "## Ανάλυση & Μελέτη Σύνθετων Τοπολογιών Δικτύου\n",
        "## Μπάρμπα Παναγιώτα-Νικολέττα\n",
        "## ΑΜ: 03118604\n",
        "<h3>Ανάλυση Κοινωνικής Δομής σε Τεχνητές και Πραγματικές Σύνθετες Τοπολογίες Δικτύων</h3>\n",
        "<p style=text-align:justify>Στην παρούσα άσκηση θα αναλυθούν τεχνητές και πραγματικές τοπολογίες σύνθετων δικτύων με βάση τις μετρικές που χρησιμοποιήθηκαν στην προηγούμενη άσκηση και κάποιες τεχνικές που έχουν ως στόχο την εύρεση κοινωνικής δομής. Συγκεκριμένα, θα χρησιμοποιηθούν και θα συγκριθούν διάφοροι αλγόριθμοι εντοπισμού κοινοτήτων σε γράφους δικτύων που προκύπτουν από πραγματικά δεδομένα καθώς και στους συνθετικούς γράφους της πρώτης εργαστηριακής άσκησης.</p>"
      ]
    },
    {
      "cell_type": "code",
      "execution_count": null,
      "metadata": {
        "id": "OfcTw0B34tFi"
      },
      "outputs": [],
      "source": [
        "%matplotlib inline\n",
        "\n",
        "import matplotlib\n",
        "import networkx as nx\n",
        "import random\n",
        "import matplotlib.pyplot as plt\n",
        "import numpy as np\n",
        "import scipy as sp\n",
        "from sklearn.cluster import SpectralClustering\n",
        "\n",
        "\n",
        "import warnings\n",
        "warnings.filterwarnings('ignore')"
      ]
    },
    {
      "cell_type": "markdown",
      "metadata": {
        "id": "e_hSVGAJ4tFj"
      },
      "source": [
        "<h3>Α. Μελέτη πραγματικών τοπολογιών</h3>\n",
        "<p style=text-align:justify>Στο παρόν ερώτημα θα μελετήσετε και θα αποκτήσετε αίσθηση της τοπολογικής δομής πραγματικών δικτύων. Πιο συγκεκριμένα, για τις τοπολογίες που φαίνονται στον <b>πίνακα 1</b>, να βρεθούν και να δειχθούν:</p>\n",
        "<ol>\n",
        "    <li>Η κατανομή του βαθμού κόμβου και ο μέσος βαθμός κάθε τοπολογίας.</li>\n",
        "    <li>Η κατανομή του συντελεστή ομαδοποίησης κόμβου και ο μέσος συντελεστής ομαδοποίησης κάθε τοπολογίας.</li>\n",
        "    <li>Η κατανομή της κεντρικότητας εγγύτητας και η μέση κεντρικότητα εγγύτητας κάθε τοπολογίας.</li>\n",
        "</ol>\n",
        "<p style=text-align:justify>Να συγκριθούν τα αποτελέσματα σε σχέση με αυτά των συνθετικών τοπολογιών. Να χαρακτηρίσετε τον τύπο κάθε μίας από τις πραγματικές τοπολογίες με βάση τους τύπους δικτύων που εξετάστηκαν στην πρώτη εργαστηριακή άσκηση.</p>"
      ]
    },
    {
      "cell_type": "markdown",
      "metadata": {
        "id": "W572YclO4tFj"
      },
      "source": [
        "<table style=width:100%>\n",
        "    <caption>Πίνακας <b>1</b>: Πραγματικές τοπολογίες</a></caption>\n",
        "<tr>\n",
        "    <th style=text-align:left>Τοπολογία</th>\n",
        "    <th style=text-align:left>Αρχείο</th>\n",
        "    <th style=text-align:left>Περιγραφή</th>\n",
        "</tr>\n",
        "<tr>\n",
        "    <td style=text-align:left>American College Football</td>\n",
        "    <td style=text-align:left><a style=text-decoration:none href='http://www-personal.umich.edu/~mejn/netdata/football.zip'>football.gml</a></td>\n",
        "    <td style=text-align:left><p style=text-align:justify> The file <b>football.gml</b> contains the network of American football games between Division IA colleges during regular season Fall 2000, as compiled by M. Girvan and M. Newman. The nodes have values that indicate to which conferences they belong.</p>\n",
        "    </td>\n",
        "</tr>  \n",
        "<tr>\n",
        "    <td style=text-align:left>Game of Thrones - season 5</td>\n",
        "    <td style=text-align:left><a style=text-decoration:none href='https://networkofthrones.wordpress.com/the-series/season-5/'>GoT</a></td>\n",
        "    <td style=text-align:left><p style=text-align:justify> The season 5 <b>GoT</b> network represents the interactions between the characters of Game of Thrones in season 5. The season 5 network has 118 nodes (characters) and 394 weighted edges, corresponding to 5,139 interactions. Data can be found here: <a style=text-decoration:none href='https://raw.githubusercontent.com/mathbeveridge/gameofthrones/master/data/got-s5-edges.csv'>GoT_data</a></p>\n",
        "</tr> \n",
        "<tr>\n",
        "    <td style=text-align:left>email-Eu-core</td>\n",
        "    <td style=text-align:left><a style=text-decoration:none href='https://snap.stanford.edu/data/email-Eu-core.html'>email-eu-core</a></td>\n",
        "    <td style=text-align:left><p style=text-align:justify> The network <b>email-Eu-core</b> was generated using email data from a large European research institution. There is an edge (u, v) in the network if person u sent person v at least one email. The e-mails only represent communication between institution members (the core) and the dataset does not contain incoming messages from or outgoing messages to the rest of the world. The dataset also contains \"ground-truth\" community memberships of the nodes. Each individual belongs to exactly one of 42 departments at the research institute. </p>\n",
        "</tr> \n",
        "    \n",
        "</table>"
      ]
    },
    {
      "cell_type": "markdown",
      "metadata": {
        "id": "yKA3pfH44tFk"
      },
      "source": [
        "<h4>Παραγωγή συνθετικών τοπολογιών</h4> \n",
        "<p>Προσοχή! Τα δίκτυα που θα παράξετε θα πρέπει να είναι συνδεδεμένα.</p>"
      ]
    },
    {
      "cell_type": "code",
      "execution_count": null,
      "metadata": {
        "colab": {
          "base_uri": "https://localhost:8080/"
        },
        "id": "qdCmXOKu4tFk",
        "outputId": "940a467d-bcec-42a2-9fe6-0b2db6c2db0b"
      },
      "outputs": [],
      "source": [
        "n = 80\n",
        "d = 4\n",
        "M = 300\n",
        "R = 0.25\n",
        "p = 0.3\n",
        "k = 4\n",
        "seedno = 5\n",
        "random.seed(seedno)\n",
        "\n",
        "REG = nx.watts_strogatz_graph(n = n, k = k, p  = 0, seed = seedno)\n",
        "RGER = nx.gnm_random_graph(n = n, m = M, seed = seedno)\n",
        "RGG = nx.random_geometric_graph(n = n, radius = R, seed = seedno)\n",
        "RGGil = nx.gnp_random_graph(n = n, p = p, seed = seedno)\n",
        "SF = nx.barabasi_albert_graph(n = n, m = d, seed = seedno)\n",
        "SW = nx.watts_strogatz_graph(n = n, k = k, p = p, seed = seedno)\n",
        "\n",
        "Graphs = {'REG' : REG, 'RGER' : RGER, 'RGG' : RGG, 'RGGil' : RGGil, 'SF' : SF, 'SW' : SW }\n",
        "# check all graphs are connected\n",
        "for name, graph in Graphs.items():\n",
        "    print(name,\"is connected?\", nx.is_connected(graph))"
      ]
    },
    {
      "cell_type": "markdown",
      "metadata": {
        "id": "jFZwxJB-4tFl"
      },
      "source": [
        "<h4>Εισαγωγή και οπτικοποίηση πραγματικών τοπολογιών.</h4>"
      ]
    },
    {
      "cell_type": "code",
      "execution_count": null,
      "metadata": {
        "colab": {
          "base_uri": "https://localhost:8080/",
          "height": 1000
        },
        "id": "G9j6YBrZ4tFl",
        "outputId": "c3055101-3300-4002-8b71-61143e1d3d9f"
      },
      "outputs": [],
      "source": [
        "#football network\n",
        "football=nx.read_gml(r\"football.gml\")\n",
        "\n",
        "#visualize the graph\n",
        "plt.figure(1,figsize=(20,20))\n",
        "pos = nx.spring_layout(football,k=5)\n",
        "plt.figure(4,figsize=(20,20))\n",
        "nx.draw_networkx_nodes(football,pos,nodelist=dict(football.degree()).keys(),node_size=[v * 100 for v in dict(football.degree()).values()],node_color='lightblue',alpha=0.5)\n",
        "nx.draw_networkx_edges(football,pos,alpha=0.7)\n",
        "for n,i in { n: n for n in sorted(dict(football.degree()),key=dict(football.degree).get,reverse=True)}.items():\n",
        "    nx.draw_networkx_labels(football,pos,labels={n:n},font_size=0.4*dict(football.degree()).get(n))\n",
        "\n",
        "plt.figure(2,figsize=(20,20))\n",
        "nx.draw(football, with_labels=True, node_size=100, node_color='blue', font_size=20)"
      ]
    },
    {
      "cell_type": "code",
      "execution_count": null,
      "metadata": {
        "colab": {
          "base_uri": "https://localhost:8080/",
          "height": 1000
        },
        "id": "Fe3egQ1O4tFl",
        "outputId": "aaee5c20-81d7-4f2e-df5e-6cde261fe5ea"
      },
      "outputs": [],
      "source": [
        "#Game of thrones network\n",
        "import csv\n",
        "got=nx.Graph()\n",
        "with open('got_s5.csv') as csv_file:\n",
        "    csv_reader = csv.reader(csv_file, delimiter=',')\n",
        "    line_count = 0\n",
        "    next(csv_reader)\n",
        "    for row in csv_reader:\n",
        "        got.add_edge(row[0],row[1])\n",
        "        line_count += 1\n",
        "\n",
        "\n",
        "#visualize the network\n",
        "pos = nx.spring_layout(got,k=5)\n",
        "plt.figure(1,figsize=(20,20))\n",
        "nx.draw_networkx_nodes(got,pos,nodelist=dict(got.degree()).keys(),node_size=[v * 100 for v in dict(got.degree()).values()],node_color='lightblue',alpha=0.5)\n",
        "nx.draw_networkx_edges(got,pos,alpha=0.7)\n",
        "for n,i in { n: n for n in sorted(dict(got.degree()),key=dict(got.degree).get,reverse=True)}.items():\n",
        "    nx.draw_networkx_labels(got,pos,labels={n:n},font_size=0.4*dict(got.degree()).get(n))\n",
        "\n",
        "plt.figure(2,figsize=(20,20))\n",
        "nx.draw(got, with_labels=True, node_size=100, node_color='blue', font_size=20)"
      ]
    },
    {
      "cell_type": "markdown",
      "metadata": {
        "id": "QesyK-8G4tFm"
      },
      "source": [
        "#### Προσοχή! Θα μελετήσετε τη μεγαλύτερη συνδεδεμένη συνιστώσα του δικτύου email-Eu-core, αφού πρώτα αφαιρέσετε τα self-loops. Μπορείτε να κάνετε χρήση των συναρτήσεων connected_components, subgraph, remove_edges_from του networkx."
      ]
    },
    {
      "cell_type": "code",
      "execution_count": null,
      "metadata": {
        "colab": {
          "base_uri": "https://localhost:8080/",
          "height": 1000
        },
        "id": "zxykUM8e4tFm",
        "outputId": "bdf6f68e-8812-40e9-bd34-1e7379874e73"
      },
      "outputs": [],
      "source": [
        "#email-Eu-core network\n",
        "eu=nx.read_edgelist(\"email-Eu-core.txt\",create_using=nx.Graph())\n",
        "selfLoops = nx.selfloop_edges(eu)\n",
        "eu.remove_edges_from(selfLoops)\n",
        "cc = max(nx.connected_components(eu), key=len)\n",
        "eu = eu.subgraph(cc)\n",
        "\n",
        "\n",
        "#visualize the network\n",
        "plt.figure(1,figsize=(30,30))\n",
        "nx.draw(eu, node_size=70, node_color='blue')"
      ]
    },
    {
      "cell_type": "markdown",
      "metadata": {
        "id": "jFOji0E74tFm"
      },
      "source": [
        "<h4>Μελέτη βαθμού κόμβου για πραγματικές και συνθετικές τοπολογίες.</h4>"
      ]
    },
    {
      "cell_type": "code",
      "execution_count": null,
      "metadata": {
        "colab": {
          "base_uri": "https://localhost:8080/",
          "height": 550
        },
        "id": "Mh41XS4b4tFm",
        "outputId": "ec2c47bd-9616-4045-8a6a-e3a07d3c7034"
      },
      "outputs": [],
      "source": [
        "realGraphs = {'football' : football, 'got' : got, 'eu' : eu}\n",
        "\n",
        "#Degree distribution for all topologies\n",
        "figure1, axis = plt.subplots(2,3)\n",
        "figure1.subplots_adjust(hspace=0.4,wspace=0.4)\n",
        "\n",
        "\n",
        "axis[0,0].hist(list(dict(Graphs['REG'].degree).values()), bins=15, color=\"lightblue\", ec=\"blue\",lw=1)\n",
        "axis[0,0].set_title(\"Degree Distribution of REG\",fontsize='xx-small')\n",
        "\n",
        "axis[0,1].hist(list(dict(Graphs['RGER'].degree).values()), bins=15, color=\"lightblue\", ec=\"blue\",lw=1)\n",
        "axis[0,1].set_title(\"Degree Distribution of RGER\",fontsize='xx-small')\n",
        "\n",
        "axis[0,2].hist(list(dict(Graphs['RGG'].degree).values()), bins=15, color=\"lightblue\", ec=\"blue\",lw=1)\n",
        "axis[0,2].set_title(\"Degree Distribution of RGG\",fontsize='xx-small')\n",
        "\n",
        "axis[1,0].hist(list(dict(Graphs['RGGil'].degree).values()), bins=15,color=\"lightblue\", ec=\"blue\",lw=1)\n",
        "axis[1,0].set_title(\"Degree Distribution of RGGil\",fontsize='xx-small')\n",
        "\n",
        "axis[1,1].hist(list(dict(Graphs['SF'].degree).values()), bins=15, color=\"lightblue\", ec=\"blue\",lw=1)\n",
        "axis[1,1].set_title(\"Degree Distribution of SF\",fontsize='xx-small')\n",
        "\n",
        "axis[1,2].hist(list(dict(Graphs['SW'].degree).values()), bins=15, color=\"lightblue\", ec=\"blue\",lw=1)\n",
        "axis[1,2].set_title(\"Degree Distribution of SW\",fontsize='xx-small')\n",
        "\n",
        "figure2,axis = plt.subplots(1,3)\n",
        "figure2.subplots_adjust(hspace=0.4,wspace=0.4)\n",
        "\n",
        "axis[0].hist(list(dict(realGraphs['football'].degree).values()), bins=15, color=\"lightblue\", ec=\"blue\",lw=1)\n",
        "axis[0].set_title(\"Degree Distribution of football\",fontsize='xx-small')\n",
        "\n",
        "axis[1].hist(list(dict(realGraphs['got'].degree).values()), bins=15, color=\"lightblue\", ec=\"blue\",lw=1)\n",
        "axis[1].set_title(\"Degree Distribution of got\",fontsize='xx-small')\n",
        "\n",
        "axis[2].hist(list(dict(realGraphs['eu'].degree).values()), bins=15, color=\"lightblue\", ec=\"blue\",lw=1)\n",
        "axis[2].set_title(\"Degree Distribution of eu\",fontsize='xx-small')\n"
      ]
    },
    {
      "cell_type": "markdown",
      "metadata": {
        "id": "5rq8VSzM4tFm"
      },
      "source": [
        "#### Μέσος βαθμός κόμβου για πραγματικές και συνθετικές τοπολογίες"
      ]
    },
    {
      "cell_type": "code",
      "execution_count": null,
      "metadata": {
        "colab": {
          "base_uri": "https://localhost:8080/"
        },
        "id": "SMcHqjh34tFm",
        "outputId": "5f943132-6320-4a39-f6f8-d52a8b70301c"
      },
      "outputs": [],
      "source": [
        "for name,graph in Graphs.items():\n",
        "    dn = graph.degree()\n",
        "    list_dn = [x[1] for x in dn]\n",
        "    mean = np.mean(list_dn)\n",
        "    var = np.var(list_dn)\n",
        "    print(name,\"\\t-> mean degree :\",round(mean,3), \"\\t-> variance :\",round(var,3))\n",
        "print(\"----------------------------------------------\")\n",
        "for name,graph in realGraphs.items():\n",
        "    dn = graph.degree()\n",
        "    list_dn = [x[1] for x in dn]\n",
        "    mean = np.mean(list_dn)\n",
        "    var = np.var(list_dn)\n",
        "    print(name,\"-> mean degree :\",round(mean,3), \"-> variance :\",round(var,3))"
      ]
    },
    {
      "cell_type": "markdown",
      "metadata": {
        "id": "Xv3NezFo4tFn"
      },
      "source": [
        "Παρατηρούμε πως το football εχει παρόμοια κατανομή με αυτή του RGG, οπως έχει και παραπλησια μέση τιμή. Η κατανανομή του γράφου got είναι παρόμοια με αυτή της SF(πολλοί κόμβοι με μικρό βαθμό), όπως και η μέση τιμή του και η διασπορά του. Τέλος το EU Email ακολουθεί την κατανομή power law, η οποία και αυτή είναι παραπλήσια με την SF."
      ]
    },
    {
      "cell_type": "markdown",
      "metadata": {
        "id": "dHhlO2df4tFn"
      },
      "source": [
        "<h4>Μελέτη συντελεστή ομαδοποίησης για πραγματικές και συνθετικές τοπολογίες</h4>"
      ]
    },
    {
      "cell_type": "code",
      "execution_count": null,
      "metadata": {
        "colab": {
          "base_uri": "https://localhost:8080/",
          "height": 550
        },
        "id": "buw0jO4W4tFn",
        "outputId": "c3b93fe2-e123-42d8-93a8-b9f592fcb3a9"
      },
      "outputs": [],
      "source": [
        "#returns a dictionary {node : clustering coefficient}\n",
        "def cc(G):\n",
        "    g = {key: round(val,4) for key, val in nx.clustering(G).items() }\n",
        "    return g\n",
        "\n",
        "figure1, axis = plt.subplots(2,3)\n",
        "figure1.subplots_adjust(hspace=0.4,wspace=0.4)\n",
        "\n",
        "\n",
        "axis[0,0].hist(cc(Graphs['REG']).values(), bins=15, color=\"lightblue\", ec=\"blue\",lw=1)\n",
        "axis[0,0].set_title(\"Clustering Coefficient Distribution of REG\",fontsize='xx-small')\n",
        "\n",
        "axis[0,1].hist(cc(Graphs['RGER']).values(), bins=15, color=\"lightblue\", ec=\"blue\",lw=1)\n",
        "axis[0,1].set_title(\"Clustering Coefficient Distribution of RGER\",fontsize='xx-small')\n",
        "\n",
        "axis[0,2].hist(cc(Graphs['RGG']).values(), bins=15, color=\"lightblue\", ec=\"blue\",lw=1)\n",
        "axis[0,2].set_title(\"Clustering Coefficient Distribution of RGG\",fontsize='xx-small')\n",
        "\n",
        "axis[1,0].hist(cc(Graphs['RGGil']).values(), bins=15,color=\"lightblue\", ec=\"blue\",lw=1)\n",
        "axis[1,0].set_title(\"Clustering Coefficient Distribution of RGGil\",fontsize='xx-small')\n",
        "\n",
        "axis[1,1].hist(cc(Graphs['SF']).values(), bins=15, color=\"lightblue\", ec=\"blue\",lw=1)\n",
        "axis[1,1].set_title(\"Clustering Coefficient Distribution of SF\",fontsize='xx-small')\n",
        "\n",
        "axis[1,2].hist(cc(Graphs['SW']).values(), bins=15, color=\"lightblue\", ec=\"blue\",lw=1)\n",
        "axis[1,2].set_title(\"Clustering Coefficient Distribution of SW\",fontsize='xx-small')\n",
        "\n",
        "figure2,axis = plt.subplots(1,3)\n",
        "figure2.subplots_adjust(hspace=0.4,wspace=0.4)\n",
        "\n",
        "axis[0].hist(cc(realGraphs['football']).values(), bins=15, color=\"lightblue\", ec=\"blue\",lw=1)\n",
        "axis[0].set_title(\"Clustering Coefficient Distribution of football\",fontsize='xx-small')\n",
        "\n",
        "axis[1].hist(cc(realGraphs['got']).values(), bins=15, color=\"lightblue\", ec=\"blue\",lw=1)\n",
        "axis[1].set_title(\"Clustering Coefficient Distribution of got\",fontsize='xx-small')\n",
        "\n",
        "axis[2].hist(cc(realGraphs['eu']).values(), bins=15, color=\"lightblue\", ec=\"blue\",lw=1)\n",
        "axis[2].set_title(\"Clustering Coefficient Distribution of eu\",fontsize='xx-small')\n"
      ]
    },
    {
      "cell_type": "markdown",
      "metadata": {
        "id": "fGO7jChS4tFn"
      },
      "source": [
        "#### Μέσος συντελεστής ομαδοποίησης για πραγματικές και συνθετικές τοπολογίες"
      ]
    },
    {
      "cell_type": "code",
      "execution_count": null,
      "metadata": {
        "colab": {
          "base_uri": "https://localhost:8080/"
        },
        "id": "EXVUTuKh4tFn",
        "outputId": "bfa34efc-a1b8-47c2-e4ba-825bdc0f797f"
      },
      "outputs": [],
      "source": [
        "for name,graph in Graphs.items():\n",
        "    mean = nx.average_clustering(graph)\n",
        "    var = np.array(list(cc(graph).values()))\n",
        "    var = np.var(var)\n",
        "    print(name,\"\\t-> mean degree :\",round(mean,3), \"\\t-> variance :\",round(var,3))\n",
        "print(\"----------------------------------------------\")\n",
        "for name,graph in realGraphs.items():\n",
        "    mean = nx.average_clustering(graph)\n",
        "    var = np.array(list(cc(graph).values()))\n",
        "    var = np.var(var)\n",
        "    print(name,\"-> mean degree :\",round(mean,3), \"-> variance :\",round(var,3))"
      ]
    },
    {
      "cell_type": "markdown",
      "metadata": {
        "id": "VbXQfAey4tFn"
      },
      "source": [
        "Βλέπουμε ότι η κατανομή του Football είναι παραπλήσια με αυτήν της RGGil και της RGG οπότε συμπεραίνουμε ότι football είναι τυχαίος γράφος. Ακόμα στον γράφο Game of Thrones παρατηρούμε οτι έχει κατανομή που δεν πλησιάζει σε κάποια άλλη. Παρ' όλα αυτά μοιάζει πιο πολύ με την κατανομή SF. Τέλος το EU EMAIL έχει κατανομή σαν να είναι τυχαίος γράφος δηλάδη είτε RGG είτε RGGil."
      ]
    },
    {
      "cell_type": "markdown",
      "metadata": {
        "id": "ak7aACwy4tFn"
      },
      "source": [
        "<h4>Μελέτη κεντρικότητας εγγύτητας για πραγματικές και συνθετικές τοπολογίες </h4>"
      ]
    },
    {
      "cell_type": "code",
      "execution_count": null,
      "metadata": {
        "colab": {
          "base_uri": "https://localhost:8080/"
        },
        "id": "QI06oj4i4tFn",
        "outputId": "166e6fd1-158c-4c1e-e93c-0479460efeb0"
      },
      "outputs": [],
      "source": [
        "\n",
        "\n",
        "figure1, axis = plt.subplots(2,3)\n",
        "figure1.subplots_adjust(hspace=0.4,wspace=0.4)\n",
        "\n",
        "\n",
        "axis[0,0].hist(nx.closeness_centrality(Graphs['REG']).values(), bins=15, color=\"lightblue\", ec=\"blue\",lw=1)\n",
        "axis[0,0].set_title(\"Closeness Centrality Distr of REG\",fontsize='xx-small')\n",
        "\n",
        "axis[0,1].hist(nx.closeness_centrality(Graphs['RGER']).values(), bins=15, color=\"lightblue\", ec=\"blue\",lw=1)\n",
        "axis[0,1].set_title(\"Closeness Centrality Distr of RGER\",fontsize='xx-small')\n",
        "\n",
        "axis[0,2].hist(nx.closeness_centrality(Graphs['RGG']).values(), bins=15, color=\"lightblue\", ec=\"blue\",lw=1)\n",
        "axis[0,2].set_title(\"Closeness Centrality Distr of RGG\",fontsize='xx-small')\n",
        "\n",
        "axis[1,0].hist(nx.closeness_centrality(Graphs['RGGil']).values(), bins=15,color=\"lightblue\", ec=\"blue\",lw=1)\n",
        "axis[1,0].set_title(\"Closeness Centrality Distr of RGGil\",fontsize='xx-small')\n",
        "\n",
        "axis[1,1].hist(nx.closeness_centrality(Graphs['SF']).values(), bins=15, color=\"lightblue\", ec=\"blue\",lw=1)\n",
        "axis[1,1].set_title(\"Closeness Centrality Distr of SF\",fontsize='xx-small')\n",
        "\n",
        "axis[1,2].hist(nx.closeness_centrality(Graphs['SW']).values(), bins=15, color=\"lightblue\", ec=\"blue\",lw=1)\n",
        "axis[1,2].set_title(\"Closeness Centrality Distr of SW\",fontsize='xx-small')\n",
        "\n",
        "figure2,axis = plt.subplots(1,3)\n",
        "figure2.subplots_adjust(hspace=0.4,wspace=0.4)\n",
        "\n",
        "axis[0].hist(nx.closeness_centrality(realGraphs['football']).values(), bins=15, color=\"lightblue\", ec=\"blue\",lw=1)\n",
        "axis[0].set_title(\"Closeness Centrality Distr of football\",fontsize='xx-small')\n",
        "\n",
        "axis[1].hist(nx.closeness_centrality(realGraphs['got']).values(), bins=15, color=\"lightblue\", ec=\"blue\",lw=1)\n",
        "axis[1].set_title(\"Closeness Centrality Distr of got\",fontsize='xx-small')\n",
        "\n",
        "axis[2].hist(nx.closeness_centrality(realGraphs['eu']).values(), bins=15, color=\"lightblue\", ec=\"blue\",lw=1)\n",
        "axis[2].set_title(\"Closeness Centrality Distr of eu\",fontsize='xx-small')\n"
      ]
    },
    {
      "cell_type": "code",
      "execution_count": null,
      "metadata": {
        "colab": {
          "base_uri": "https://localhost:8080/"
        },
        "id": "Q8JxaVe14tFo",
        "outputId": "bdbeb541-9a7f-442c-8959-0b91e754cffb"
      },
      "outputs": [],
      "source": [
        "\n",
        "for name,graph in Graphs.items():\n",
        "    dn = nx.closeness_centrality(graph)\n",
        "    mean = sum(dn.values())/len(dn)\n",
        "    var = np.var(list(dn.values()))\n",
        "    print(name,\"\\t-> mean closeness :\",round(mean,3), \"\\t-> variance :\",round(var,3))\n",
        "print(\"----------------------------------------------\")\n",
        "for name,graph in realGraphs.items():\n",
        "    dn = nx.closeness_centrality(graph)\n",
        "    mean = sum(dn.values())/len(dn)\n",
        "    var = np.var(list(dn.values()))\n",
        "    print(name,\"\\t-> mean closeness :\",round(mean,3), \"\\t-> variance :\",round(var,3))"
      ]
    },
    {
      "cell_type": "markdown",
      "metadata": {
        "id": "6kfHvZKM4tFo"
      },
      "source": [
        "Παρατηρούμε οτι η κατανομή του football μοιάζει πολύ με αυτήν της RGER και RGGil. Για το got παρατηρούμε οτι έχει παραπλήσια κατανομή με αυτή του SF και τέλος το EU MAIL με αυτή του RGER και του RGGil.\n"
      ]
    },
    {
      "cell_type": "markdown",
      "metadata": {},
      "source": [
        "#### Συμπεράσματα\n",
        "Από την σύγκριση των μετρικών καθως και από τις οπτικοποποιήσεις συμπεραίνουμε ότι ο γράφος football έχει κυρίως χαρακτηριστικά τυχαίου γράφου RGGil. O got γράφος είναι SF καθώς εμφανίζει κατανομές power low και από την οπτικοποιήση βλέπουμε ότι λίγοι κόμβοι έχουν μεγάλο βαθμό ενώ η πλειοψηφία τους μικρό. Τέλος το EU Mail είναι πιθανότερα RGER ή RGGil γράφος.  "
      ]
    },
    {
      "cell_type": "markdown",
      "metadata": {
        "id": "qti_XLfX4tFo"
      },
      "source": [
        "<h3>B. Εξοικείωση με τα εργαλεία εντοπισμού κοινοτήτων</h3>\n",
        "<ol>\n",
        "<li>Χρησιμοποιώντας τις συναρτήσεις του <b>πίνακα 2</b> για κάθε <u>πραγματικό</u> (<b>πίνακας 1</b>) και <u>συνθετικό</u> (από την <b>άσκηση 1</b>) δίκτυο:</p>\n",
        "<ol>\n",
        "    <li>να οπτικοποιηθούν οι κοινότητες που προκύπτουν από την κάθε μέθοδο,</li>\n",
        "    <li>να γίνουν οι απαραίτητοι σχολιασμοί (π.χ: σύγκριση του αριθμού των κοινοτήτων που υπολογίζει ο κάθε αλγόριθμος).</li>\n",
        "</ol>\n",
        "<p>Για την οπτικοποίηση, να επισημανθεί διαφορετικά κάθε κοινότητα, π.χ. με διαφορετικό χρώμα.</p>\n",
        "<p style=text-align:justify>Στην περίπτωση των συνθετικών δικτύων, να πραγματοποιηθούν συγκρίσεις και μεταξύ των διαφορετικών τύπων τοπολογιών. Για παράδειγμα, στην περίπτωση του τυχαίου γεωμετρικού γράφου, υπάρχει διαισθητικά μία κοινότητα γύρω από κάθε κόμβο που δημιουργείται με βάση τις αποστάσεις του τελευταίου από τους υπόλοιπους κόμβους του δικτύου. Στην περίπτωση των scale-free δικτύων, είναι πιθανό να σχηματίζονται κοινότητες γύρω από τους κόμβους με μεγάλο βαθμό.</p>\n",
        "<li>Για κάθε αλγόριθμο εντοπισμού κοινοτήτων και για κάθε τοπολογία αξιολογήστε την ποιότητα της διαμέρισης με τις μετρικές performance και modularity (<a style=text-decoration:none href='https://networkx.org/documentation/stable/reference/algorithms/community.html#module-networkx.algorithms.community.quality'>measuring_partitions</a>). Για την μετρική performance, θα χρησιμοποιήσετε την συνάρτηση partition_quality του networkx.</li>\n",
        "<li>Για την μεγαλύτερη συνδεδεμένη συνιστώσα του email-Eu-core, να συγκρίνετε την ground-truth διαμέριση που δίνεται στο αρχείο Email-Eu-core-department-labels.txt με τις διαμερίσεις που προκύπτουν από τις εξεταζόμενες μεθόδους ως προς το πλήθος των παραγόμενων κοινοτήτων και ως προς τις μετρικές performance και modularity. </li>\n",
        "<li>Για την παρακολούθηση του χρόνου εκτέλεσης της υλοποίησής σας, μπορείτε να χρησιμοποιήσετε τις βιβλιοθήκες <a style=text-decoration:none href='https://tqdm.github.io/'>tqdm</a> και <a style=text-decoration:none href='https://docs.python.org/3/library/time.html'>time</a> . Στο σχολιασμό σας να λάβετε υπόψη το trade-off της ποιότητας της διαμέρισης και του χρόνου εκτέλεσης των εξεταζόμενων αλγορίθμων. </li>\n",
        "</ol>"
      ]
    },
    {
      "cell_type": "markdown",
      "metadata": {
        "id": "V9Hm0ZCL4tFo"
      },
      "source": [
        "<table style=float:left;width:70%>\n",
        "    <caption>Πίνακας <b>2</b>: Συναρτήσεις εντοπισμού κοινοτήτων</caption>\n",
        "    <tr>\n",
        "        <th style=text-align:left> Μέθοδος εντοπισμού κοινοτήτων</th>\n",
        "        <th style=text-align:left>Συνάρτηση</th>\n",
        "    </tr>\n",
        "    <tr>\n",
        "        <td style=text-align:left>Spectral Clustering</td>\n",
        "        <td style=text-align:left><a style=text-decoration:none href='http://scikit-learn.org/stable/modules/generated/sklearn.cluster.SpectralClustering.html'>SpectralClustering</a></td>\n",
        "    </tr>\n",
        "       <tr>\n",
        "        <td style=text-align:left>Newman-Girvan</td>\n",
        "        <td style=text-align:left><a style=text-decoration:none                               href='https://networkx.github.io/documentation/latest/reference/algorithms/generated/networkx.algorithms.community.centrality.girvan_newman.html'>girvan_newman</a></td>\n",
        "    </tr>\n",
        "    <tr>\n",
        "        <td style=text-align:left>Modularity Maximization</td>\n",
        "        <td style=text-align:left><a style=text-decoration:none                               href='https://networkx.github.io/documentation/latest/reference/algorithms/generated/networkx.algorithms.community.modularity_max.greedy_modularity_communities.html'>greedy_modularity_communities</a></td>\n",
        "    </tr>\n",
        "</table>\n",
        "    "
      ]
    },
    {
      "cell_type": "markdown",
      "metadata": {
        "id": "Qv4Lv14H4tFo"
      },
      "source": [
        "<p style=text-align:justify>Προτού εφαρμόσετε τις συναρτήσεις εντοπισμού κοινοτήτων μελετήστε προσεκτικά την <b>είσοδο που απαιτούν καθώς και τη μορφή εξόδου που παράγουν.</b></p>"
      ]
    },
    {
      "cell_type": "code",
      "execution_count": null,
      "metadata": {
        "id": "ChQLT64L4tFo"
      },
      "outputs": [],
      "source": [
        "#Χρησιμοποιήστε την συνάρτηση conv2int για να μετατρέψετε τα labels των κόμβων στις πραγματικές τοπολογίες σε integers\n",
        "import time\n",
        "\n",
        "def conv2int(G,start_value):\n",
        "    nG = nx.convert_node_labels_to_integers(G,first_label=start_value)\n",
        "    G_mapping=dict(enumerate(G.nodes,0))\n",
        "    return nG,G_mapping"
      ]
    },
    {
      "cell_type": "code",
      "execution_count": null,
      "metadata": {
        "id": "TJ_jUk-r4tFo"
      },
      "outputs": [],
      "source": [
        "mapping = {}\n",
        "for name,graph in realGraphs.items():\n",
        "    realGraphs[name],mapping[name] = conv2int(graph,0)"
      ]
    },
    {
      "cell_type": "markdown",
      "metadata": {
        "id": "N47NN-VS4tFo"
      },
      "source": [
        "<h4> Ορισμός χρωμάτων για την οπτικοποίηση των κοινοτήτων.</h4>"
      ]
    },
    {
      "cell_type": "code",
      "execution_count": null,
      "metadata": {
        "id": "i3rBTk0e4tFo"
      },
      "outputs": [],
      "source": [
        "#insert colors for nodes\n",
        "from matplotlib import colors as mcolors\n",
        "colors = list(dict(mcolors.BASE_COLORS, **mcolors.CSS4_COLORS).keys())"
      ]
    },
    {
      "cell_type": "markdown",
      "metadata": {
        "id": "2QLEYnXo4tFp"
      },
      "source": [
        "#### Ορισμος συνάρτησης για την παραγωγή και αξιολόγηση των partitions"
      ]
    },
    {
      "cell_type": "code",
      "execution_count": null,
      "metadata": {
        "id": "v_AhxHpj4tFp"
      },
      "outputs": [],
      "source": [
        "from timeit import default_timer as timer\n",
        "from datetime import timedelta\n",
        "\n",
        "\n",
        "def highestPartions(method, name,graph,best=-1):\n",
        "    s = timer()\n",
        "    partitions = [ p for p in method(graph,name)]\n",
        "    print(\"\\tFor graph \",name,\" generated \",len(partitions),\" partitions and needed \",timedelta(seconds=timer()-s),\"to elapse\\n\")\n",
        "    BestModularity = sorted(partitions, key=lambda x: nx.community.modularity(graph,x) , reverse=True)[:best]\n",
        "    BestQuality = sorted(partitions, key=lambda x: nx.community.partition_quality(graph,x)[1] , reverse=True)[:best]\n",
        "    return BestModularity,BestQuality\n",
        "\n",
        "#######\n",
        "def allGraphsHighestPartitions(method,graphs,best=-1):\n",
        "    for name,graph in graphs.items():\n",
        "        ModPartitions[name], QualPartitions[name] = highestPartions(method,name,graph,best)\n"
      ]
    },
    {
      "cell_type": "markdown",
      "metadata": {
        "id": "oehDQ0aB4tFp"
      },
      "source": [
        "#### Ορισμός συναρτήσης για την οπτικοποίηση των κοινοτήτων"
      ]
    },
    {
      "cell_type": "code",
      "execution_count": null,
      "metadata": {
        "id": "h-6pPXlk4tFp"
      },
      "outputs": [],
      "source": [
        "from sklearn import preprocessing\n",
        "# draws all the partions of a graph\n",
        "def drawPartitions(graph,partitions,title,axis,plot=6):\n",
        "    scaledDegrees = list(\n",
        "        preprocessing.minmax_scale(\n",
        "            list(\n",
        "                dict(graph.degree).values()\n",
        "                ),\n",
        "             (10, 200)))\n",
        "    nodePosition = nx.spring_layout(graph)\n",
        "    for i, s in enumerate(partitions[0]):\n",
        "        CScaledDegree = [scaledDegrees[i] for i in list(s)]\n",
        "        nx.draw_networkx_nodes(graph,\n",
        "                               nodePosition,\n",
        "                               nodelist=list(s),\n",
        "                               node_size= CScaledDegree,\n",
        "                               node_color=colors[i],\n",
        "                               ax=axis)\n",
        "    nx.draw_networkx_edges(graph, nodePosition, alpha=0.3, ax=axis)\n",
        "    axis.set_title(title)"
      ]
    },
    {
      "cell_type": "markdown",
      "metadata": {
        "id": "f87D0boT4tFp"
      },
      "source": [
        "<h4>Εντοπισμός κοινοτήτων σε συνθετικά και πραγματικά δίκτυα με τη μέθοδο Newman-Girvan.</h4>\n",
        "<p>Παράξτε τις διαμερίσεις που προκύπτουν από την μέθοδο Newman-Girvan. Ελέγξτε τις διαμερίσεις που έχουν μέχρι και 50 κοινότητες.</p> \n",
        "<p> Επιλέξτε τις διαμερίσεις με το 1) μεγαλύτερο modularity score και 2) performance score για κάθε πραγματικό και συνθετικό δίκτυο.</p>"
      ]
    },
    {
      "cell_type": "code",
      "execution_count": 12,
      "metadata": {
        "colab": {
          "base_uri": "https://localhost:8080/"
        },
        "id": "KQkKXLDU4tFp",
        "outputId": "c272042b-4f94-4c7e-fad1-e2d080051470"
      },
      "outputs": [],
      "source": [
        "from tqdm import tqdm\n",
        "\n",
        "def NewmanGirvan(graph,name):\n",
        "    print(\"Creating partitions for graph\",name,\"...\")\n",
        "    partitions = []\n",
        "    for p in tqdm(nx.community.girvan_newman(graph)):\n",
        "        if len(p) > 50:\n",
        "            break\n",
        "        partitions.append(p)\n",
        "    return partitions\n",
        "\n"
      ]
    },
    {
      "cell_type": "markdown",
      "metadata": {
        "id": "TGZoQlTx4tFp"
      },
      "source": [
        "<h4>Εντοπισμός κοινοτήτων σε συνθετικά και πραγματικά δίκτυα με τη μέθοδο Spectral Clustering. </h4>\n",
        "Προσοχή! Για την επιλογή της τιμής της παραμέτρου που αφορά στην διάσταση του projection subspace (n_clusters) της συνάρτησης SpectralClustering, θα πρέπει να λάβετε υπόψη το μέγεθος |V| του εκάστοτε δικτύου.\n",
        "<p>Να εξετάσετε τις διαμερίσεις που προκύπτουν για n_clusters$=2,...,|V|$. Να επιλέξετε για οπτικοποίηση τις διαμερίσεις με το 1) μεγαλύτερο modularity score και 2) performance score για κάθε πραγματικό και συνθετικό δίκτυο.</p>"
      ]
    },
    {
      "cell_type": "code",
      "execution_count": null,
      "metadata": {
        "colab": {
          "base_uri": "https://localhost:8080/"
        },
        "id": "A92j-koG4tFp",
        "outputId": "d1722cd1-558d-409d-939a-7ee1245769b5"
      },
      "outputs": [],
      "source": [
        "from sklearn.cluster import SpectralClustering\n",
        "from tqdm import tqdm\n",
        "\n",
        "def Spectral(graph,name):\n",
        "    print(\"Creating partitions for graph\",name,\"...\")\n",
        "    partitions = []\n",
        "    arr = nx.to_numpy_array(graph)\n",
        "    for i in tqdm(range(2,50)):\n",
        "        clustering = SpectralClustering(n_clusters=i, assign_labels='discretize', random_state=0).fit(arr)\n",
        "        partitions.append(list(enumerate(clustering.labels_)))\n",
        "    result = []\n",
        "    for p in partitions:\n",
        "      communities = {}\n",
        "      for i in p:\n",
        "        v,c = i\n",
        "        if communities.get(c):\n",
        "          communities[c].append(v)\n",
        "        else:\n",
        "          communities[c] = [v]\n",
        "      result.append(tuple(communities.values()))\n",
        "    return result\n",
        "\n",
        "\n"
      ]
    },
    {
      "cell_type": "markdown",
      "metadata": {
        "id": "b0Kn15lw4tFp"
      },
      "source": [
        "<h4>Εντοπισμός κοινοτήτων σε συνθετικά και πραγματικά δίκτυα με τη μέθοδο Modularity Maximization.</h4>\n",
        "Για την διαμέριση που θα προκύψει σε κάθε συνθετικό και πραγματικό δίκτυο, να υπολογίσετε το modularity score και το performance score."
      ]
    },
    {
      "cell_type": "code",
      "execution_count": null,
      "metadata": {
        "colab": {
          "base_uri": "https://localhost:8080/"
        },
        "id": "kBEEKbi04tFp",
        "outputId": "db3e7a7f-856b-443d-a50b-90d4521b3c14"
      },
      "outputs": [],
      "source": [
        "def ModMaximization(graph,name):\n",
        "  print(\"Creating partitions for graph\",name,\"...\")\n",
        "  partition = [comm for comm in tqdm(nx.community.greedy_modularity_communities(graph))]\n",
        "  return [partition]\n"
      ]
    },
    {
      "cell_type": "markdown",
      "metadata": {
        "id": "K_hzSBX64tFp"
      },
      "source": [
        "#### Οπτικοποίηση κοινοτήτων American College Football"
      ]
    },
    {
      "cell_type": "code",
      "execution_count": null,
      "metadata": {
        "id": "eiO5Y1oW4tFp"
      },
      "outputs": [],
      "source": [
        "import seaborn as sns\n",
        "sns.set_palette('cubehelix')\n",
        "sns.set()\n",
        "\n",
        "methods = [NewmanGirvan,ModMaximization,Spectral]\n",
        "\n",
        "\n",
        "\n",
        "\n",
        "for method in methods:\n",
        "    ModPartitions['football'], QualPartitions['football'] = highestPartions(method,'football',graph,-1)\n",
        "\n",
        "\n",
        "#figure size \n",
        "plt.rcParams['figure.figsize'] = [10, 10]\n",
        "i = 0\n",
        "for name,graph in Graphs.items():\n",
        "    figure, axis = plt.subplots(2,1,num=i)\n",
        "    figure.subplots_adjust(hspace=0.4,wspace=0.4)\n",
        "    drawPartitions(graph,ModPartitions[name],name+\" Modularity\",axis[0])\n",
        "    drawPartitions(graph,QualPartitions[name],name+\" Performance\",axis[1])\n",
        "    i+=1\n",
        "\n",
        "\n",
        "i = 0\n",
        "for name,graph in realGraphs.items():\n",
        "    figure, axis = plt.subplots(2,1,num=i+6)\n",
        "    figure.subplots_adjust(hspace=0.4,wspace=0.4)\n",
        "    drawPartitions(graph,ModPartitions[name],name+\" Modularity\",axis[0])\n",
        "    drawPartitions(graph,QualPartitions[name],name+\" Performance\",axis[1])\n",
        "    i+=1\n"
      ]
    },
    {
      "cell_type": "markdown",
      "metadata": {
        "id": "o21HUe-p4tFp"
      },
      "source": [
        "#### Οπτικοποίηση κοινοτήτων Game of Thrones"
      ]
    },
    {
      "cell_type": "code",
      "execution_count": null,
      "metadata": {
        "id": "sV66hK7q4tFp"
      },
      "outputs": [],
      "source": []
    },
    {
      "cell_type": "markdown",
      "metadata": {
        "id": "DH3Q8sSr4tFq"
      },
      "source": [
        "#### Οπτικοποίηση κοινοτήτων email-Eu-core (να οπτικοποιηθεί και η ground-truth διαμέριση)"
      ]
    },
    {
      "cell_type": "code",
      "execution_count": null,
      "metadata": {
        "id": "vV3ifzJm4tFq"
      },
      "outputs": [],
      "source": []
    },
    {
      "cell_type": "markdown",
      "metadata": {
        "id": "3YBmX3Te4tFq"
      },
      "source": [
        "#### Οπτικοποίηση κοινοτήτων REG"
      ]
    },
    {
      "cell_type": "code",
      "execution_count": null,
      "metadata": {
        "id": "Qre6b-dF4tFq"
      },
      "outputs": [],
      "source": []
    },
    {
      "cell_type": "markdown",
      "metadata": {
        "id": "WHy9_ErT4tFq"
      },
      "source": [
        "#### Οπτικοποίηση κοινοτήτων RGER"
      ]
    },
    {
      "cell_type": "code",
      "execution_count": null,
      "metadata": {
        "id": "QuGjzqnL4tFq"
      },
      "outputs": [],
      "source": []
    },
    {
      "cell_type": "markdown",
      "metadata": {
        "id": "lEL27KNe4tFq"
      },
      "source": [
        "#### Οπτικοποίηση κοινοτήτων RGG"
      ]
    },
    {
      "cell_type": "code",
      "execution_count": null,
      "metadata": {
        "id": "jbp0tzuU4tFq"
      },
      "outputs": [],
      "source": []
    },
    {
      "cell_type": "markdown",
      "metadata": {
        "id": "p24nUYxU4tFq"
      },
      "source": [
        "#### Οπτικοποίηση κοινοτήτων SW"
      ]
    },
    {
      "cell_type": "code",
      "execution_count": null,
      "metadata": {
        "id": "rWRvatMi4tFq"
      },
      "outputs": [],
      "source": []
    },
    {
      "cell_type": "markdown",
      "metadata": {
        "id": "DFRHzMV94tFq"
      },
      "source": [
        "#### Οπτικοποίηση κοινοτήτων SF"
      ]
    },
    {
      "cell_type": "code",
      "execution_count": null,
      "metadata": {
        "id": "S1QOJDc84tFq"
      },
      "outputs": [],
      "source": []
    },
    {
      "cell_type": "markdown",
      "metadata": {
        "id": "P1CgyLmNRw6R"
      },
      "source": []
    }
  ],
  "metadata": {
    "colab": {
      "provenance": []
    },
    "kernelspec": {
      "display_name": "Python 3.8.10 64-bit",
      "language": "python",
      "name": "python3"
    },
    "language_info": {
      "codemirror_mode": {
        "name": "ipython",
        "version": 3
      },
      "file_extension": ".py",
      "mimetype": "text/x-python",
      "name": "python",
      "nbconvert_exporter": "python",
      "pygments_lexer": "ipython3",
      "version": "3.8.10"
    },
    "vscode": {
      "interpreter": {
        "hash": "916dbcbb3f70747c44a77c7bcd40155683ae19c65e1c03b4aa3499c5328201f1"
      }
    }
  },
  "nbformat": 4,
  "nbformat_minor": 0
}
