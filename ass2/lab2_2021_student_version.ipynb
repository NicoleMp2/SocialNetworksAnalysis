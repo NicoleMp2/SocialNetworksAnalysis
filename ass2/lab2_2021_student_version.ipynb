{
 "cells": [
  {
   "cell_type": "markdown",
   "metadata": {},
   "source": [
    "<h2>2<sup>η</sup> Εργαστηριακή Άσκηση</h2>\n",
    "\n",
    "## Ανάλυση & Μελέτη Σύνθετων Τοπολογιών Δικτύου\n",
    "## Μπάρμπα Παναγιώτα-Νικολέττα\n",
    "## ΑΜ: 03118604\n",
    "<h3>Ανάλυση Κοινωνικής Δομής σε Τεχνητές και Πραγματικές Σύνθετες Τοπολογίες Δικτύων</h3>\n",
    "<p style=text-align:justify>Στην παρούσα άσκηση θα αναλυθούν τεχνητές και πραγματικές τοπολογίες σύνθετων δικτύων με βάση τις μετρικές που χρησιμοποιήθηκαν στην προηγούμενη άσκηση και κάποιες τεχνικές που έχουν ως στόχο την εύρεση κοινωνικής δομής. Συγκεκριμένα, θα χρησιμοποιηθούν και θα συγκριθούν διάφοροι αλγόριθμοι εντοπισμού κοινοτήτων σε γράφους δικτύων που προκύπτουν από πραγματικά δεδομένα καθώς και στους συνθετικούς γράφους της πρώτης εργαστηριακής άσκησης.</p>"
   ]
  },
  {
   "cell_type": "code",
   "execution_count": 1,
   "metadata": {},
   "outputs": [],
   "source": [
    "%matplotlib inline\n",
    "\n",
    "import matplotlib\n",
    "import networkx as nx\n",
    "import random\n",
    "import matplotlib.pyplot as plt\n",
    "import numpy as np\n",
    "import scipy as sp\n",
    "from sklearn.cluster import SpectralClustering"
   ]
  },
  {
   "cell_type": "markdown",
   "metadata": {},
   "source": [
    "<h3>Α. Μελέτη πραγματικών τοπολογιών</h3>\n",
    "<p style=text-align:justify>Στο παρόν ερώτημα θα μελετήσετε και θα αποκτήσετε αίσθηση της τοπολογικής δομής πραγματικών δικτύων. Πιο συγκεκριμένα, για τις τοπολογίες που φαίνονται στον <b>πίνακα 1</b>, να βρεθούν και να δειχθούν:</p>\n",
    "<ol>\n",
    "    <li>Η κατανομή του βαθμού κόμβου και ο μέσος βαθμός κάθε τοπολογίας.</li>\n",
    "    <li>Η κατανομή του συντελεστή ομαδοποίησης κόμβου και ο μέσος συντελεστής ομαδοποίησης κάθε τοπολογίας.</li>\n",
    "    <li>Η κατανομή της κεντρικότητας εγγύτητας και η μέση κεντρικότητα εγγύτητας κάθε τοπολογίας.</li>\n",
    "</ol>\n",
    "<p style=text-align:justify>Να συγκριθούν τα αποτελέσματα σε σχέση με αυτά των συνθετικών τοπολογιών. Να χαρακτηρίσετε τον τύπο κάθε μίας από τις πραγματικές τοπολογίες με βάση τους τύπους δικτύων που εξετάστηκαν στην πρώτη εργαστηριακή άσκηση.</p>"
   ]
  },
  {
   "cell_type": "markdown",
   "metadata": {},
   "source": [
    "<table style=width:100%>\n",
    "    <caption>Πίνακας <b>1</b>: Πραγματικές τοπολογίες</a></caption>\n",
    "<tr>\n",
    "    <th style=text-align:left>Τοπολογία</th>\n",
    "    <th style=text-align:left>Αρχείο</th>\n",
    "    <th style=text-align:left>Περιγραφή</th>\n",
    "</tr>\n",
    "<tr>\n",
    "    <td style=text-align:left>American College Football</td>\n",
    "    <td style=text-align:left><a style=text-decoration:none href='http://www-personal.umich.edu/~mejn/netdata/football.zip'>football.gml</a></td>\n",
    "    <td style=text-align:left><p style=text-align:justify> The file <b>football.gml</b> contains the network of American football games between Division IA colleges during regular season Fall 2000, as compiled by M. Girvan and M. Newman. The nodes have values that indicate to which conferences they belong.</p>\n",
    "    </td>\n",
    "</tr>  \n",
    "<tr>\n",
    "    <td style=text-align:left>Game of Thrones - season 5</td>\n",
    "    <td style=text-align:left><a style=text-decoration:none href='https://networkofthrones.wordpress.com/the-series/season-5/'>GoT</a></td>\n",
    "    <td style=text-align:left><p style=text-align:justify> The season 5 <b>GoT</b> network represents the interactions between the characters of Game of Thrones in season 5. The season 5 network has 118 nodes (characters) and 394 weighted edges, corresponding to 5,139 interactions. Data can be found here: <a style=text-decoration:none href='https://raw.githubusercontent.com/mathbeveridge/gameofthrones/master/data/got-s5-edges.csv'>GoT_data</a></p>\n",
    "</tr> \n",
    "<tr>\n",
    "    <td style=text-align:left>email-Eu-core</td>\n",
    "    <td style=text-align:left><a style=text-decoration:none href='https://snap.stanford.edu/data/email-Eu-core.html'>email-eu-core</a></td>\n",
    "    <td style=text-align:left><p style=text-align:justify> The network <b>email-Eu-core</b> was generated using email data from a large European research institution. There is an edge (u, v) in the network if person u sent person v at least one email. The e-mails only represent communication between institution members (the core) and the dataset does not contain incoming messages from or outgoing messages to the rest of the world. The dataset also contains \"ground-truth\" community memberships of the nodes. Each individual belongs to exactly one of 42 departments at the research institute. </p>\n",
    "</tr> \n",
    "    \n",
    "</table>"
   ]
  },
  {
   "cell_type": "markdown",
   "metadata": {},
   "source": [
    "<h4>Παραγωγή συνθετικών τοπολογιών</h4> \n",
    "<p>Προσοχή! Τα δίκτυα που θα παράξετε θα πρέπει να είναι συνδεδεμένα.</p>"
   ]
  },
  {
   "cell_type": "code",
   "execution_count": 6,
   "metadata": {},
   "outputs": [
    {
     "name": "stdout",
     "output_type": "stream",
     "text": [
      "REG is connected? True\n",
      "RGER is connected? True\n",
      "RGG is connected? True\n",
      "RGGil is connected? True\n",
      "SF is connected? True\n",
      "SW is connected? True\n"
     ]
    }
   ],
   "source": [
    "n = 80\n",
    "d = 4\n",
    "M = 300\n",
    "R = 0.25\n",
    "p = 0.3\n",
    "k = 4\n",
    "seedno = 5\n",
    "random.seed(seedno)\n",
    "\n",
    "REG = nx.watts_strogatz_graph(n = n, k = k, p  = 0, seed = seedno)\n",
    "RGER = nx.gnm_random_graph(n = n, m = M, seed = seedno)\n",
    "RGG = nx.random_geometric_graph(n = n, radius = R, seed = seedno)\n",
    "RGGil = nx.gnp_random_graph(n = n, p = p, seed = seedno)\n",
    "SF = nx.barabasi_albert_graph(n = n, m = d, seed = seedno)\n",
    "SW = nx.watts_strogatz_graph(n = n, k = k, p = p, seed = seedno)\n",
    "\n",
    "Graphs = {'REG' : REG, 'RGER' : RGER, 'RGG' : RGG, 'RGGil' : RGGil, 'SF' : SF, 'SW' : SW }\n",
    "# check all graphs are connected\n",
    "for name, graph in Graphs.items():\n",
    "    print(name,\"is connected?\", nx.is_connected(graph))"
   ]
  },
  {
   "cell_type": "markdown",
   "metadata": {},
   "source": [
    "<h4>Εισαγωγή και οπτικοποίηση πραγματικών τοπολογιών.</h4>"
   ]
  },
  {
   "cell_type": "code",
   "execution_count": 3,
   "metadata": {},
   "outputs": [],
   "source": [
    "#football network\n",
    "football=nx.read_gml(r\"football.gml\")"
   ]
  },
  {
   "cell_type": "code",
   "execution_count": 4,
   "metadata": {},
   "outputs": [],
   "source": [
    "#Game of thrones network\n",
    "import csv\n",
    "got=nx.Graph()\n",
    "with open('got_s5.csv') as csv_file:\n",
    "    csv_reader = csv.reader(csv_file, delimiter=',')\n",
    "    line_count = 0\n",
    "    next(csv_reader)\n",
    "    for row in csv_reader:\n",
    "        got.add_edge(row[0],row[1])\n",
    "        line_count += 1"
   ]
  },
  {
   "cell_type": "markdown",
   "metadata": {},
   "source": [
    "#### Προσοχή! Θα μελετήσετε τη μεγαλύτερη συνδεδεμένη συνιστώσα του δικτύου email-Eu-core, αφού πρώτα αφαιρέσετε τα self-loops. Μπορείτε να κάνετε χρήση των συναρτήσεων connected_components, subgraph, remove_edges_from του networkx."
   ]
  },
  {
   "cell_type": "code",
   "execution_count": 8,
   "metadata": {},
   "outputs": [],
   "source": [
    "#email-Eu-core network\n",
    "eu=nx.read_edgelist(\"email-Eu-core.txt\",create_using=nx.Graph())\n",
    "selfLoops = nx.selfloop_edges(eu)\n",
    "eu.remove_edges_from(selfLoops)\n",
    "cc = max(nx.connected_components(eu), key=len)\n",
    "eu = eu.subgraph(cc)"
   ]
  },
  {
   "cell_type": "markdown",
   "metadata": {},
   "source": [
    "<h4>Μελέτη βαθμού κόμβου για πραγματικές και συνθετικές τοπολογίες.</h4>"
   ]
  },
  {
   "cell_type": "code",
   "execution_count": 21,
   "metadata": {},
   "outputs": [
    {
     "data": {
      "text/plain": [
       "Text(0.5, 1.0, 'Degree Distribution of eu')"
      ]
     },
     "execution_count": 21,
     "metadata": {},
     "output_type": "execute_result"
    },
    {
     "data": {
      "image/png": "[encoded data removed]",
      "text/plain": [
       "<Figure size 640x480 with 6 Axes>"
      ]
     },
     "metadata": {},
     "output_type": "display_data"
    },
    {
     "data": {
      "image/png": "[encoded data removed]",
      "text/plain": [
       "<Figure size 640x480 with 3 Axes>"
      ]
     },
     "metadata": {},
     "output_type": "display_data"
    }
   ],
   "source": [
    "realGraphs = {'football' : football, 'got' : got, 'eu' : eu}\n",
    "\n",
    "#Degree distribution for all topologies\n",
    "figure1, axis = plt.subplots(2,3)\n",
    "figure1.subplots_adjust(hspace=0.4,wspace=0.4)\n",
    "\n",
    "\n",
    "axis[0,0].hist(list(dict(Graphs['REG'].degree).values()), bins=15, color=\"lightblue\", ec=\"blue\",lw=1)\n",
    "axis[0,0].set_title(\"Degree Distribution of REG\",fontsize='xx-small')\n",
    "\n",
    "axis[0,1].hist(list(dict(Graphs['RGER'].degree).values()), bins=15, color=\"lightblue\", ec=\"blue\",lw=1)\n",
    "axis[0,1].set_title(\"Degree Distribution of RGER\",fontsize='xx-small')\n",
    "\n",
    "axis[0,2].hist(list(dict(Graphs['RGG'].degree).values()), bins=15, color=\"lightblue\", ec=\"blue\",lw=1)\n",
    "axis[0,2].set_title(\"Degree Distribution of RGG\",fontsize='xx-small')\n",
    "\n",
    "axis[1,0].hist(list(dict(Graphs['RGGil'].degree).values()), bins=15,color=\"lightblue\", ec=\"blue\",lw=1)\n",
    "axis[1,0].set_title(\"Degree Distribution of RGGil\",fontsize='xx-small')\n",
    "\n",
    "axis[1,1].hist(list(dict(Graphs['SF'].degree).values()), bins=15, color=\"lightblue\", ec=\"blue\",lw=1)\n",
    "axis[1,1].set_title(\"Degree Distribution of SF\",fontsize='xx-small')\n",
    "\n",
    "axis[1,2].hist(list(dict(Graphs['SW'].degree).values()), bins=15, color=\"lightblue\", ec=\"blue\",lw=1)\n",
    "axis[1,2].set_title(\"Degree Distribution of SW\",fontsize='xx-small')\n",
    "\n",
    "figure2,axis = plt.subplots(1,3)\n",
    "figure2.subplots_adjust(hspace=0.4,wspace=0.4)\n",
    "\n",
    "axis[0].hist(list(dict(realGraphs['football'].degree).values()), bins=15, color=\"lightblue\", ec=\"blue\",lw=1)\n",
    "axis[0].set_title(\"Degree Distribution of football\",fontsize='xx-small')\n",
    "\n",
    "axis[1].hist(list(dict(realGraphs['got'].degree).values()), bins=15, color=\"lightblue\", ec=\"blue\",lw=1)\n",
    "axis[1].set_title(\"Degree Distribution of got\",fontsize='xx-small')\n",
    "\n",
    "axis[2].hist(list(dict(realGraphs['eu'].degree).values()), bins=15, color=\"lightblue\", ec=\"blue\",lw=1)\n",
    "axis[2].set_title(\"Degree Distribution of eu\",fontsize='xx-small')\n"
   ]
  },
  {
   "cell_type": "markdown",
   "metadata": {},
   "source": [
    "#### Μέσος βαθμός κόμβου για πραγματικές και συνθετικές τοπολογίες"
   ]
  },
  {
   "cell_type": "code",
   "execution_count": 36,
   "metadata": {},
   "outputs": [
    {
     "name": "stdout",
     "output_type": "stream",
     "text": [
      "REG \t-> mean degree : 4.0\n",
      "RGER \t-> mean degree : 7.5\n",
      "RGG \t-> mean degree : 11.25\n",
      "RGGil \t-> mean degree : 23.95\n",
      "SF \t-> mean degree : 7.6\n",
      "SW \t-> mean degree : 4.0\n",
      "----------------------------------------------\n",
      "football -> mean degree : 10.661\n",
      "got -> mean degree : 6.655\n",
      "eu -> mean degree : 32.584\n"
     ]
    }
   ],
   "source": [
    "for name,graph in Graphs.items():\n",
    "    dn = graph.degree()\n",
    "    list_dn = [x[1] for x in dn]\n",
    "    mean = np.mean(list_dn)\n",
    "    print(name,\"\\t-> mean degree :\",round(mean,3))\n",
    "print(\"----------------------------------------------\")\n",
    "for name,graph in realGraphs.items():\n",
    "    dn = graph.degree()\n",
    "    list_dn = [x[1] for x in dn]\n",
    "    mean = np.mean(list_dn)\n",
    "    var = np.var(list_dn)\n",
    "    print(name,\"-> mean degree :\",round(mean,3))"
   ]
  },
  {
   "cell_type": "markdown",
   "metadata": {},
   "source": [
    "<h4>Μελέτη συντελεστή ομαδοποίησης για πραγματικές και συνθετικές τοπολογίες</h4>"
   ]
  },
  {
   "cell_type": "code",
   "execution_count": 34,
   "metadata": {},
   "outputs": [
    {
     "data": {
      "text/plain": [
       "Text(0.5, 1.0, 'Clustering Coefficient Distribution of eu')"
      ]
     },
     "execution_count": 34,
     "metadata": {},
     "output_type": "execute_result"
    },
    {
     "data": {
      "image/png": "[encoded data removed]",
      "text/plain": [
       "<Figure size 640x480 with 6 Axes>"
      ]
     },
     "metadata": {},
     "output_type": "display_data"
    },
    {
     "data": {
      "image/png": "[encoded data removed]",
      "text/plain": [
       "<Figure size 640x480 with 3 Axes>"
      ]
     },
     "metadata": {},
     "output_type": "display_data"
    }
   ],
   "source": [
    "#returns a dictionary {node : clustering coefficient}\n",
    "def cc(G):\n",
    "    g = {key: round(val,4) for key, val in nx.clustering(G).items() }\n",
    "    return g\n",
    "\n",
    "figure1, axis = plt.subplots(2,3)\n",
    "figure1.subplots_adjust(hspace=0.4,wspace=0.4)\n",
    "\n",
    "\n",
    "axis[0,0].hist(cc(Graphs['REG']).values(), bins=15, color=\"lightblue\", ec=\"blue\",lw=1)\n",
    "axis[0,0].set_title(\"Clustering Coefficient Distribution of REG\",fontsize='xx-small')\n",
    "\n",
    "axis[0,1].hist(cc(Graphs['RGER']).values(), bins=15, color=\"lightblue\", ec=\"blue\",lw=1)\n",
    "axis[0,1].set_title(\"Clustering Coefficient Distribution of RGER\",fontsize='xx-small')\n",
    "\n",
    "axis[0,2].hist(cc(Graphs['RGG']).values(), bins=15, color=\"lightblue\", ec=\"blue\",lw=1)\n",
    "axis[0,2].set_title(\"Clustering Coefficient Distribution of RGG\",fontsize='xx-small')\n",
    "\n",
    "axis[1,0].hist(cc(Graphs['RGGil']).values(), bins=15,color=\"lightblue\", ec=\"blue\",lw=1)\n",
    "axis[1,0].set_title(\"Clustering Coefficient Distribution of RGGil\",fontsize='xx-small')\n",
    "\n",
    "axis[1,1].hist(cc(Graphs['SF']).values(), bins=15, color=\"lightblue\", ec=\"blue\",lw=1)\n",
    "axis[1,1].set_title(\"Clustering Coefficient Distribution of SF\",fontsize='xx-small')\n",
    "\n",
    "axis[1,2].hist(cc(Graphs['SW']).values(), bins=15, color=\"lightblue\", ec=\"blue\",lw=1)\n",
    "axis[1,2].set_title(\"Clustering Coefficient Distribution of SW\",fontsize='xx-small')\n",
    "\n",
    "figure2,axis = plt.subplots(1,3)\n",
    "figure2.subplots_adjust(hspace=0.4,wspace=0.4)\n",
    "\n",
    "axis[0].hist(cc(realGraphs['football']).values(), bins=15, color=\"lightblue\", ec=\"blue\",lw=1)\n",
    "axis[0].set_title(\"Clustering Coefficient Distribution of football\",fontsize='xx-small')\n",
    "\n",
    "axis[1].hist(cc(realGraphs['got']).values(), bins=15, color=\"lightblue\", ec=\"blue\",lw=1)\n",
    "axis[1].set_title(\"Clustering Coefficient Distribution of got\",fontsize='xx-small')\n",
    "\n",
    "axis[2].hist(cc(realGraphs['eu']).values(), bins=15, color=\"lightblue\", ec=\"blue\",lw=1)\n",
    "axis[2].set_title(\"Clustering Coefficient Distribution of eu\",fontsize='xx-small')\n"
   ]
  },
  {
   "cell_type": "markdown",
   "metadata": {},
   "source": [
    "#### Μέσος συντελεστής ομαδοποίησης για πραγματικές και συνθετικές τοπολογίες"
   ]
  },
  {
   "cell_type": "code",
   "execution_count": 38,
   "metadata": {},
   "outputs": [
    {
     "name": "stdout",
     "output_type": "stream",
     "text": [
      "REG \t-> mean degree : 0.5\n",
      "RGER \t-> mean degree : 0.085\n",
      "RGG \t-> mean degree : 0.683\n",
      "RGGil \t-> mean degree : 0.303\n",
      "SF \t-> mean degree : 0.229\n",
      "SW \t-> mean degree : 0.167\n",
      "----------------------------------------------\n",
      "football -> mean degree : 0.403\n",
      "got -> mean degree : 0.574\n",
      "eu -> mean degree : 0.407\n"
     ]
    }
   ],
   "source": [
    "for name,graph in Graphs.items():\n",
    "    mean = nx.average_clustering(graph)\n",
    "    print(name,\"\\t-> mean degree :\",round(mean,3))\n",
    "print(\"----------------------------------------------\")\n",
    "for name,graph in realGraphs.items():\n",
    "    mean = nx.average_clustering(graph)\n",
    "    print(name,\"-> mean degree :\",round(mean,3))"
   ]
  },
  {
   "cell_type": "markdown",
   "metadata": {},
   "source": [
    "<h4>Μελέτη κεντρικότητας εγγύτητας για πραγματικές και συνθετικές τοπολογίες </h4>"
   ]
  },
  {
   "cell_type": "code",
   "execution_count": null,
   "metadata": {},
   "outputs": [],
   "source": []
  },
  {
   "cell_type": "markdown",
   "metadata": {},
   "source": [
    "<h3>B. Εξοικείωση με τα εργαλεία εντοπισμού κοινοτήτων</h3>\n",
    "<ol>\n",
    "<li>Χρησιμοποιώντας τις συναρτήσεις του <b>πίνακα 2</b> για κάθε <u>πραγματικό</u> (<b>πίνακας 1</b>) και <u>συνθετικό</u> (από την <b>άσκηση 1</b>) δίκτυο:</p>\n",
    "<ol>\n",
    "    <li>να οπτικοποιηθούν οι κοινότητες που προκύπτουν από την κάθε μέθοδο,</li>\n",
    "    <li>να γίνουν οι απαραίτητοι σχολιασμοί (π.χ: σύγκριση του αριθμού των κοινοτήτων που υπολογίζει ο κάθε αλγόριθμος).</li>\n",
    "</ol>\n",
    "<p>Για την οπτικοποίηση, να επισημανθεί διαφορετικά κάθε κοινότητα, π.χ. με διαφορετικό χρώμα.</p>\n",
    "<p style=text-align:justify>Στην περίπτωση των συνθετικών δικτύων, να πραγματοποιηθούν συγκρίσεις και μεταξύ των διαφορετικών τύπων τοπολογιών. Για παράδειγμα, στην περίπτωση του τυχαίου γεωμετρικού γράφου, υπάρχει διαισθητικά μία κοινότητα γύρω από κάθε κόμβο που δημιουργείται με βάση τις αποστάσεις του τελευταίου από τους υπόλοιπους κόμβους του δικτύου. Στην περίπτωση των scale-free δικτύων, είναι πιθανό να σχηματίζονται κοινότητες γύρω από τους κόμβους με μεγάλο βαθμό.</p>\n",
    "<li>Για κάθε αλγόριθμο εντοπισμού κοινοτήτων και για κάθε τοπολογία αξιολογήστε την ποιότητα της διαμέρισης με τις μετρικές performance και modularity (<a style=text-decoration:none href='https://networkx.org/documentation/stable/reference/algorithms/community.html#module-networkx.algorithms.community.quality'>measuring_partitions</a>). Για την μετρική performance, θα χρησιμοποιήσετε την συνάρτηση partition_quality του networkx.</li>\n",
    "<li>Για την μεγαλύτερη συνδεδεμένη συνιστώσα του email-Eu-core, να συγκρίνετε την ground-truth διαμέριση που δίνεται στο αρχείο Email-Eu-core-department-labels.txt με τις διαμερίσεις που προκύπτουν από τις εξεταζόμενες μεθόδους ως προς το πλήθος των παραγόμενων κοινοτήτων και ως προς τις μετρικές performance και modularity. </li>\n",
    "<li>Για την παρακολούθηση του χρόνου εκτέλεσης της υλοποίησής σας, μπορείτε να χρησιμοποιήσετε τις βιωλιοθήκες <a style=text-decoration:none href='https://tqdm.github.io/'>tqdm</a> και <a style=text-decoration:none href='https://docs.python.org/3/library/time.html'>time</a> . Στο σχολιασμό σας να λάβετε υπόψη το trade-off της ποιότητας της διαμέρισης και του χρόνου εκτέλεσης των εξεταζόμενων αλγορίθμων. </li>\n",
    "</ol>"
   ]
  },
  {
   "cell_type": "markdown",
   "metadata": {},
   "source": [
    "<table style=float:left;width:70%>\n",
    "    <caption>Πίνακας <b>2</b>: Συναρτήσεις εντοπισμού κοινοτήτων</caption>\n",
    "    <tr>\n",
    "        <th style=text-align:left> Μέθοδος εντοπισμού κοινοτήτων</th>\n",
    "        <th style=text-align:left>Συνάρτηση</th>\n",
    "    </tr>\n",
    "    <tr>\n",
    "        <td style=text-align:left>Spectral Clustering</td>\n",
    "        <td style=text-align:left><a style=text-decoration:none href='http://scikit-learn.org/stable/modules/generated/sklearn.cluster.SpectralClustering.html'>SpectralClustering</a></td>\n",
    "    </tr>\n",
    "       <tr>\n",
    "        <td style=text-align:left>Newman-Girvan</td>\n",
    "        <td style=text-align:left><a style=text-decoration:none                               href='https://networkx.github.io/documentation/latest/reference/algorithms/generated/networkx.algorithms.community.centrality.girvan_newman.html'>girvan_newman</a></td>\n",
    "    </tr>\n",
    "    <tr>\n",
    "        <td style=text-align:left>Modularity Maximization</td>\n",
    "        <td style=text-align:left><a style=text-decoration:none                               href='https://networkx.github.io/documentation/latest/reference/algorithms/generated/networkx.algorithms.community.modularity_max.greedy_modularity_communities.html'>greedy_modularity_communities</a></td>\n",
    "    </tr>\n",
    "</table>\n",
    "    "
   ]
  },
  {
   "cell_type": "markdown",
   "metadata": {},
   "source": [
    "<p style=text-align:justify>Προτού εφαρμόσετε τις συναρτήσεις εντοπισμού κοινοτήτων μελετήστε προσεκτικά την <b>είσοδο που απαιτούν καθώς και τη μορφή εξόδου που παράγουν.</b></p>"
   ]
  },
  {
   "cell_type": "code",
   "execution_count": null,
   "metadata": {},
   "outputs": [],
   "source": [
    "#Χρησιμοποιήστε την συνάρτηση conv2int για να μετατρέψετε τα labels των κόμβων στις πραγματικ΄ές τοπολογίες σε integers\n",
    "def conv2int(G,start_value):\n",
    "    nG = nx.convert_node_labels_to_integers(G,first_label=start_value)\n",
    "    G_mapping=dict(enumerate(G.nodes,0))\n",
    "    return nG,G_mapping"
   ]
  },
  {
   "cell_type": "markdown",
   "metadata": {},
   "source": [
    "<h4> Ορισμός χρωμάτων για την οπτικοποίηση των κοινοτήτων.</h4>"
   ]
  },
  {
   "cell_type": "code",
   "execution_count": null,
   "metadata": {},
   "outputs": [],
   "source": [
    "#insert colors for nodes\n",
    "from matplotlib import colors as mcolors\n",
    "colors = list(dict(mcolors.BASE_COLORS, **mcolors.CSS4_COLORS).keys())"
   ]
  },
  {
   "cell_type": "markdown",
   "metadata": {},
   "source": [
    "<h4>Εντοπισμός κοινοτήτων σε συνθετικά και πραγματικά δίκτυα με τη μέθοδο Newman-Girvan.</h4>\n",
    "<p>Παράξτε τις διαμερίσεις που προκύπτουν από την μέθοδο Newman-Girvan. Ελέγξτε τις διαμερίσεις που έχουν μέχρι και 50 κοινότητες.</p> \n",
    "<p> Επιλέξτε τις διαμερίσεις με το 1) μεγαλύτερο modularity score και 2) performance score για κάθε πραγματικό και συνθετικό δίκτυο.</p>"
   ]
  },
  {
   "cell_type": "code",
   "execution_count": null,
   "metadata": {},
   "outputs": [],
   "source": []
  },
  {
   "cell_type": "markdown",
   "metadata": {},
   "source": [
    "<h4>Εντοπισμός κοινοτήτων σε συνθετικά και πραγματικά δίκτυα με τη μέθοδο Spectral Clustering. </h4>\n",
    "Προσοχή! Για την επιλογή της τιμής της παραμέτρου που αφορά στην διάσταση του projection subspace (n_clusters) της συνάρτησης SpectralClustering, θα πρέπει να λάβετε υπόψη το μέγεθος |V| του εκάστοτε δικτύου.\n",
    "<p>Να εξετάσετε τις διαμερίσεις που προκύπτουν για n_clusters$=2,...,|V|$. Να επιλέξετε για οπτικοποίηση τις διαμερίσεις με το 1) μεγαλύτερο modularity score και 2) performance score για κάθε πραγματικό και συνθετικό δίκτυο.</p>"
   ]
  },
  {
   "cell_type": "code",
   "execution_count": null,
   "metadata": {},
   "outputs": [],
   "source": []
  },
  {
   "cell_type": "markdown",
   "metadata": {},
   "source": [
    "<h4>Εντοπισμός κοινοτήτων σε συνθετικά και πραγματικά δίκτυα με τη μέθοδο Modularity Maximization.</h4>\n",
    "Για την διαμέριση που θα προκύψει σε κάθε συνθετικό και πραγματικό δίκτυο, να υπολογίσετε το modularity score και το performance score."
   ]
  },
  {
   "cell_type": "code",
   "execution_count": null,
   "metadata": {},
   "outputs": [],
   "source": []
  },
  {
   "cell_type": "markdown",
   "metadata": {},
   "source": [
    "#### Οπτικοποίηση κοινοτήτων American College Football"
   ]
  },
  {
   "cell_type": "code",
   "execution_count": null,
   "metadata": {},
   "outputs": [],
   "source": []
  },
  {
   "cell_type": "markdown",
   "metadata": {},
   "source": [
    "#### Οπτικοποίηση κοινοτήτων Game of Thrones"
   ]
  },
  {
   "cell_type": "code",
   "execution_count": null,
   "metadata": {},
   "outputs": [],
   "source": []
  },
  {
   "cell_type": "markdown",
   "metadata": {},
   "source": [
    "#### Οπτικοποίηση κοινοτήτων email-Eu-core (να οπτικοποιηθεί και η ground-truth διαμέριση)"
   ]
  },
  {
   "cell_type": "code",
   "execution_count": null,
   "metadata": {},
   "outputs": [],
   "source": []
  },
  {
   "cell_type": "markdown",
   "metadata": {},
   "source": [
    "#### Οπτικοποίηση κοινοτήτων REG"
   ]
  },
  {
   "cell_type": "code",
   "execution_count": null,
   "metadata": {},
   "outputs": [],
   "source": []
  },
  {
   "cell_type": "markdown",
   "metadata": {},
   "source": [
    "#### Οπτικοποίηση κοινοτήτων RGER"
   ]
  },
  {
   "cell_type": "code",
   "execution_count": null,
   "metadata": {},
   "outputs": [],
   "source": []
  },
  {
   "cell_type": "markdown",
   "metadata": {},
   "source": [
    "#### Οπτικοποίηση κοινοτήτων RGG"
   ]
  },
  {
   "cell_type": "code",
   "execution_count": null,
   "metadata": {},
   "outputs": [],
   "source": []
  },
  {
   "cell_type": "markdown",
   "metadata": {},
   "source": [
    "#### Οπτικοποίηση κοινοτήτων SW"
   ]
  },
  {
   "cell_type": "code",
   "execution_count": null,
   "metadata": {},
   "outputs": [],
   "source": []
  },
  {
   "cell_type": "markdown",
   "metadata": {},
   "source": [
    "#### Οπτικοποίηση κοινοτήτων SF"
   ]
  },
  {
   "cell_type": "code",
   "execution_count": null,
   "metadata": {},
   "outputs": [],
   "source": []
  }
 ],
 "metadata": {
  "kernelspec": {
   "display_name": "Python 3.10.8 64-bit",
   "language": "python",
   "name": "python3"
  },
  "language_info": {
   "codemirror_mode": {
    "name": "ipython",
    "version": 3
   },
   "file_extension": ".py",
   "mimetype": "text/x-python",
   "name": "python",
   "nbconvert_exporter": "python",
   "pygments_lexer": "ipython3",
   "version": "3.10.8"
  },
  "vscode": {
   "interpreter": {
    "hash": "b0fa6594d8f4cbf19f97940f81e996739fb7646882a419484c72d19e05852a7e"
   }
  }
 },
 "nbformat": 4,
 "nbformat_minor": 2
}
