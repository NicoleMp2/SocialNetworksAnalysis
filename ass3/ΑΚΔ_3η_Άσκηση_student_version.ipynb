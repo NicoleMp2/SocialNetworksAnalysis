{
 "cells": [
  {
   "attachments": {},
   "cell_type": "markdown",
   "id": "1f35580e",
   "metadata": {},
   "source": [
    "<html><font size=6><B>3η εργαστηριακή άσκηση</B><BR>\n",
    "    <BR><B>Link prediction - Πρόβλεψη συνδέσμων</B></BR>\n",
    "    </font></html>\n",
    "\n",
    "### Μπάρμπα Παναγίωτα Νικολέττα \n",
    "### ΑΜ: 03118604"
   ]
  },
  {
   "cell_type": "markdown",
   "id": "b30af479",
   "metadata": {},
   "source": [
    "<html><font size=4><B>1. Κατασκευή γράφου και προεργασία για την πρόβλεψη συνδέσμων</B></font>\n",
    "    <li><B>1(i).</B> Χρησιμοποιήστε το dataset <a href=\"http://konect.cc/networks/dbpedia-similar/\"> Similarities (DBpedia)</a>, για να κατασκευάσετε τον μη κατευθυνόμενο (undirected) γράφο $G$ <a href=\"https://dl.acm.org/doi/10.1145/2487788.2488173\">[1]</a>,<a href=\"https://link.springer.com/chapter/10.1007/978-3-540-76298-0_52\">[2]</a>. Οι κόμβοι του γράφου αναπαριστούν σελίδες της Wikipedia και οι ακμές σχέση ομοιότητας μεταξύ τους. Στην σελίδα <a href=\"http://konect.cc/networks/dbpedia-similar/\"> KONECT (DBpedia)</a> μπορείτε να βρείτε πληροφορίες για τις ιδιότητες του γράφου.</a><BR>\n",
    "        <B><U>Υπόδειξη:</U></B> Μπορείτε να ελέγξετε προγραμματιστικά αν το dataset περιέχει διπλότυπα των ακμών με την ίδια ή αντίστροφη σειρά (π.χ. ακμές (a,b) και (b,a)), και να λάβετε υπ' όψιν σας αυτήν σας την παρατήρηση, όπου τυχόν χρειαστεί, στην ερώτηση 2.<BR></html>"
   ]
  },
  {
   "cell_type": "code",
   "execution_count": 2,
   "id": "954aca1e",
   "metadata": {},
   "outputs": [
    {
     "name": "stdout",
     "output_type": "stream",
     "text": [
      "No duplicate edges\n"
     ]
    }
   ],
   "source": [
    "import networkx as nx\n",
    "\n",
    "#στο README file βλέπουμε ότι το αρχείο περιέχει τον πίνακα γειτνίασης του δικτύου\n",
    "# στην μορφή \"ID of from node\" \"ID of to node\"  με μία ακμή ανά γραμμή\n",
    "# διαβάζουμε τον γράφο με την εντολή nx.read_adjlist\n",
    "\n",
    "DBpedia = nx.read_adjlist(\"./dbpedia-similar/out.dbpedia-similar\", comments='%',nodetype=int)\n",
    "\n",
    "edges = set()\n",
    "\n",
    "for n in DBpedia.edges():\n",
    "    if ((n[1], n[0]) not in edges) and ((n[0], n[1]) not in edges):\n",
    "        edges.add(n)\n",
    "    else:\n",
    "        print(\"Duplicate edge: \", n)\n",
    "if len(edges) == DBpedia.number_of_edges():\n",
    "    print(\"No duplicate edges\")   \n"
   ]
  },
  {
   "cell_type": "markdown",
   "id": "4bd79bac",
   "metadata": {},
   "source": [
    " <li><B>1(ii).</B> Εμφανίστε τον αριθμό των κόμβων, τον αριθμό των ακμών, τον μέσο βαθμό των κόμβων και τον αριθμό των συνεκτικών συνιστωσών (connected components) για τον γράφο $G$.</li><BR>"
   ]
  },
  {
   "cell_type": "code",
   "execution_count": 106,
   "id": "9277a4e2",
   "metadata": {},
   "outputs": [
    {
     "name": "stdout",
     "output_type": "stream",
     "text": [
      "Initial number of nodes:  430 \n",
      "Initial number of edges:  565 \n",
      "Initial average degree:  2.628 \n",
      "Initial number of connected components:  95\n"
     ]
    }
   ],
   "source": [
    "import numpy as np\n",
    "\n",
    "initial_node_count = DBpedia.number_of_nodes()\n",
    "initial_edge_count = DBpedia.number_of_edges()\n",
    "initial_average_degree = round(np.mean(list(dict(DBpedia.degree()).values())),3) \n",
    "initial_connected_components = nx.number_connected_components(DBpedia)\n",
    "\n",
    "print(\"Initial number of nodes: \", initial_node_count,\n",
    "    \"\\nInitial number of edges: \", initial_edge_count,\n",
    "    \"\\nInitial average degree: \", initial_average_degree,\n",
    "    \"\\nInitial number of connected components: \", initial_connected_components)"
   ]
  },
  {
   "cell_type": "markdown",
   "id": "bf03f6b9",
   "metadata": {},
   "source": [
    "<li><B>1(iii). </B>Υπολογίστε το σύνολο των ασύνδετων ζευγών κόμβων (unconnected pairs) στον γράφο χρησιμοποιώντας τον πίνακα γειτνίασης (adjacency matrix). Δώστε επίσης τον αριθμό τους. Λάβετε υπ' όψιν σας ότι ο γράφος είναι μη κατευθυνόμενος και δεν χρειάζεται να διατρέξετε ολόκληρο τον πίνακα γειτνίασης.</li><BR>"
   ]
  },
  {
   "cell_type": "code",
   "execution_count": 4,
   "id": "ac296254",
   "metadata": {},
   "outputs": [
    {
     "name": "stdout",
     "output_type": "stream",
     "text": [
      "Number of unconnected edges:  91671\n",
      "Some unconnected edges:  [(1, 6), (1, 7), (1, 8), (1, 9), (1, 10), (1, 11), (1, 12), (1, 13), (1, 14), (1, 15)] ... [(425, 428), (425, 429), (425, 430), (426, 428), (426, 429), (426, 430), (427, 428), (427, 429), (427, 430), (429, 430)]\n"
     ]
    }
   ],
   "source": [
    "unconnected_edges = list(nx.non_edges(DBpedia))\n",
    "print(\"Number of unconnected edges: \", len(unconnected_edges))\n",
    "print(\"Some unconnected edges: \", unconnected_edges[:10], \"...\", unconnected_edges[-10:])"
   ]
  },
  {
   "cell_type": "markdown",
   "id": "154c2a8d",
   "metadata": {},
   "source": [
    "<li><B>1(iv).</B> Υπολογίστε το σύνολο των ακμών (removable edges) που μπορούν να αφαιρεθούν από τον γράφο χωρίς να υπάρχει κατάτμηση (splitting) του γράφου (δηλ. ο αριθμός των συνεκτικών συνιστωσών θα πρέπει να παραμένει αμετάβλητος). Υπόδειξη: Ελέγχετε επίσης ότι με αφαίρεση ακμής δεν μειώνεται ο αριθμός των κόμβων (εφόσον δεν υπάρχει ξεχωριστό αρχείο μόνο με κόμβους στο dataset). Δώστε επίσης τον αριθμό των ακμών (removable edges) που μπορούν να αφαιρεθούν υπό αυτές τις προϋποθέσεις.</li><BR>"
   ]
  },
  {
   "cell_type": "code",
   "execution_count": 47,
   "id": "b39c2241",
   "metadata": {},
   "outputs": [
    {
     "name": "stdout",
     "output_type": "stream",
     "text": [
      "Number of removable edges:  229\n",
      "Some removable edges:  [(1, 2), (1, 3), (1, 4), (3, 4), (3, 5), (5, 6), (5, 46), (5, 47), (32, 20), (32, 21)] ... [(400, 401), (400, 402), (400, 403), (400, 404), (401, 402), (401, 403), (401, 404), (402, 403), (402, 404), (403, 404)]\n"
     ]
    }
   ],
   "source": [
    "# removable edges: check splitting and number of nodes\n",
    "def removableEdges(graph):\n",
    "    removable_edges = []\n",
    "    rem_graph = graph.copy()\n",
    "    for edge in graph.edges():\n",
    "        rem_graph.remove_edge(edge[0], edge[1])\n",
    "        rem_nodes = rem_graph.number_of_nodes()\n",
    "        rem_connected = nx.number_connected_components(rem_graph)\n",
    "        if ( rem_connected == initial_connected_components) and ( rem_nodes == initial_node_count and edge[0] != edge[1]): \n",
    "            removable_edges.append(edge)\n",
    "        else:\n",
    "            rem_graph.add_edge(edge[0], edge[1])\n",
    "    return removable_edges\n",
    "\n",
    "\n",
    "removable_edges = removableEdges(DBpedia)\n",
    "print(\"Number of removable edges: \", len(removable_edges))\n",
    "print(\"Some removable edges: \", removable_edges[:10], \"...\", removable_edges[-10:])"
   ]
  },
  {
   "cell_type": "markdown",
   "id": "eb03d745",
   "metadata": {},
   "source": [
    "<li><B>1(vα).</B> Κατασκευάστε dataframe που συνενώνει τις απαντήσεις των ερωτημάτων 1(iii) και 1(iv) (unconnected+removables). Χρησιμοποιήστε την μεταβλητή $link$ που θα παίρνει τιμή 1 ή 0 ανάλογα με την ύπαρξη συνδέσμου ή μη. To dataframe αυτό συγκεντρώνει τα θετικά και αρνητικά δείγματα για την πρόβλεψη των μελλοντικών συνδέσεων (link: target variable). <BR>\n",
    "    <li><B>1(vβ).</B> Κατασκευάστε τον γράφο $G'$ που προκύπτει από την αφαίρεση από τον γράφο $G$ των ακμών του ερωτήματος 1(iv). <BR>\n",
    "    <li><B>1(vγ).</B> Εμφανίστε τον αριθμό των κόμβων, τον αριθμό των ακμών, τον μέσο βαθμό των κόμβων και τον αριθμό των συνεκτικών συνιστωσών (connected components) για τον γράφο $G'$.</li><BR>"
   ]
  },
  {
   "cell_type": "code",
   "execution_count": 105,
   "id": "cb033fc0",
   "metadata": {},
   "outputs": [
    {
     "name": "stdout",
     "output_type": "stream",
     "text": [
      "+-------+---------+--------+\n",
      "|       | edge    |   link |\n",
      "|-------+---------+--------|\n",
      "| 91671 | (1, 2)  |      1 |\n",
      "| 91672 | (1, 3)  |      1 |\n",
      "| 91673 | (1, 4)  |      1 |\n",
      "|     0 | (1, 6)  |      0 |\n",
      "|     1 | (1, 7)  |      0 |\n",
      "|     2 | (1, 8)  |      0 |\n",
      "|     3 | (1, 9)  |      0 |\n",
      "|     4 | (1, 10) |      0 |\n",
      "|     5 | (1, 11) |      0 |\n",
      "|     6 | (1, 12) |      0 |\n",
      "+-------+---------+--------+\n",
      "Number of nodes:  430 \n",
      "Number of edges:  336 \n",
      "Average degree:  1.563 \n",
      "Number of connected components:  95\n"
     ]
    }
   ],
   "source": [
    "import pandas as pd\n",
    "from tabulate import tabulate\n",
    "#dataframe of unconnected node pairs (they will function as negative samples)\n",
    "#...['link'] = 0 # uncomment and complete\n",
    "#dataframe of removable edges (they will function as positive samples)\n",
    "#...['link'] = 1  #uncomment and complete\n",
    "df_unconnected = pd.DataFrame({'edge': unconnected_edges, 'link': 0.0})\n",
    "df_removable = pd.DataFrame({'edge': removable_edges, 'link': 1.0})\n",
    "#merge in one dataframe\n",
    "df_merged = pd.concat([df_unconnected, df_removable], ignore_index=True)\n",
    "print(tabulate(df_merged.sort_values(by=['edge']).head(10), headers='keys', tablefmt='psql'))\n",
    "\n",
    "\n",
    "#build graph G'=G_reduced\n",
    "G_reduced = DBpedia.copy()\n",
    "G_reduced.remove_edges_from(removable_edges)\n",
    "\n",
    "node_count = G_reduced.number_of_nodes()\n",
    "edge_count = G_reduced.number_of_edges()\n",
    "average_degree = round(np.mean(list(dict(G_reduced.degree()).values())),3) \n",
    "connected_components = nx.number_connected_components(G_reduced)\n",
    "\n",
    "print(\"Number of nodes: \", node_count,\n",
    "    \"\\nNumber of edges: \", edge_count,\n",
    "    \"\\nAverage degree: \", average_degree,\n",
    "    \"\\nNumber of connected components: \", connected_components)"
   ]
  },
  {
   "attachments": {},
   "cell_type": "markdown",
   "id": "184eae57",
   "metadata": {},
   "source": [
    "### 2. Εισαγωγή σε similarity-based μετρικές για Link prediction\n",
    "\n",
    "- Η μετρική **Jaccard Coefficient (JC)** των κόμβων ${u}$ και ${v}$ ορίζεται ως $\\frac{|\\Gamma(u) \\cap \\Gamma(v)|}{|\\Gamma(u) \\cup \\Gamma(v)|}$, όπου ${\\Gamma(u)}$ είναι το σύνολο των γειτονικών κόμβων του κόμβου ${u}$.\n",
    "\n",
    "- Η μετρική **Preferential Αttachment (PA)** των κόμβων $u$ και $v$ ορίζεται ως $|\\Gamma(u)| |\\Gamma(v)|$, όπου $\\Gamma(u)$ είναι το σύνολο των γειτονικών κόμβων του $u$.\n",
    "-  Η μετρική **Resource Allocation (RA)** των κόμβων $u$ και $v$ ορίζεται ως $\\sum_{w \\in \\Gamma(u) \\cap \\Gamma(v)} \\frac{1}{|\\Gamma(w)|}$, όπου $\\Gamma(u)$ είναι το σύνολο των γειτονικών κόμβων του $u$.<BR><BR>\n",
    "\n",
    "**<u>Υπόδειξεις για παρακάτω:</u>**\n",
    "1. Θετικό θεωρήστε ένα αποτέλεσμα, αν η μετρική $JC$ υπερβαίνει μια τιμή κατωφλίου (>=). Αρνητικό θεωρήστε το στην αντίθετη περίπτωση.\n",
    "2. Αληθώς θετικά είναι τα αποτελέσματα που βγήκαν θετικά (η τιμή της $JC$ υπερβαίνει την τιμή κατωφλίου) και πράγματι θα υπάρξουν οι συνδέσεις που περιγράφουν (ερ. 1(iv)).\n",
    "3. Αληθώς αρνητικά είναι τα αποτελέσματα που βγήκαν αρνητικά και πράγματι δεν θα υπάρξουν οι συνδέσεις που περιγράφουν (ερ. 1(iii)).\n",
    "3. Ψευδώς θετικά είναι τα αποτελέσματα που βγήκαν θετικά, ενώ δεν θα υπάρξουν οι συνδέσεις που περιγράφουν.\n",
    "4. Ψευδώς αρνητικά είναι τα αποτελέσματα που βγήκαν αρνητικά, ενώ θα υπάρξουν οι συνδέσεις που περιγράφουν.\n",
    "5. Το άθροισμα $TN+FP$ πρέπει κάθε φορά να σας δίνει όλες τις ασύνδετες ακμές του γράφου $G$.\n",
    "6. Από το ερώτημα 1(iii) οι ακμές που υπολογίσατε είναι αυτές για τις οποίες δεν θα υπάρξουν συνδέσεις. - Από το ερώτημα 1(iv) οι ακμές που υπολογίσατε είναι αυτές για τις οποίες θα υπάρξουν συνδέσεις.<BR>"
   ]
  },
  {
   "attachments": {},
   "cell_type": "markdown",
   "id": "9e77a33a",
   "metadata": {},
   "source": [
    "- **2(i).** Για τον γράφο $G'$, που κατασκευάσατε στο ερώτημα 1(vβ), υπολογίστε την μετρική **Jaccard Coefficient (JC)**.  <u><a href=\"https://networkx.org/documentation/stable/reference/algorithms/link_prediction.html?highlight=link%20prediction\">Χρησιμοποιήστε την υλοποιημένη συνάρτηση του λογισμικού NetworkX.</a></u> <BR></BR>\n"
   ]
  },
  {
   "cell_type": "code",
   "execution_count": 90,
   "id": "d8b0d5fd",
   "metadata": {},
   "outputs": [
    {
     "name": "stdout",
     "output_type": "stream",
     "text": [
      "[(1, 2, 0.0), (1, 3, 0.0), (1, 4, 0.0), (1, 6, 0.0), (1, 7, 0.0), (1, 8, 0.0), (1, 9, 0.0), (1, 10, 0.0), (1, 11, 0.0), (1, 12, 0.0)] ... [(425, 428, 0.0), (425, 429, 0.0), (425, 430, 0.0), (426, 428, 0.0), (426, 429, 0.0), (426, 430, 0.0), (427, 428, 0.0), (427, 429, 0.0), (427, 430, 0.0), (429, 430, 1.0)]\n"
     ]
    }
   ],
   "source": [
    "\n",
    "JC_preds = [(u,v,p) for (u,v,p) in nx.algorithms.link_prediction.jaccard_coefficient(G_reduced)]\n",
    "#check if all p are 1.0\n",
    "#print(\"All Jaccard Coefficient predictions are 1.0: \", all((x[2] == 1.0 or x[2]==0.0) for x in JC_preds))\n",
    "print(JC_preds[:10], \"...\", JC_preds[-10:])"
   ]
  },
  {
   "attachments": {},
   "cell_type": "markdown",
   "id": "17bfd94c",
   "metadata": {},
   "source": [
    "- **2(ii).** Δώστε τις $k$ ακμές με την υψηλότερη τιμή μετρικής $JC$, όπου $k$ ο $Α.Μ.$ σας $mod$ $10$. Για $Α.Μ.$ λήγοντα σε $0$ δώστε τις $10$ ακμές με την υψηλότερη τιμή μετρικής.\n",
    "        (Για την σύγκριση μεταξύ διαφορετικών μετρικών προτιμάται η εύρεση των $k$ επικρατέστερων συνδέσμων, αφού οι μετρικές επιστρέφουν διαφορετικό εύρος τιμών.)<BR>\n"
   ]
  },
  {
   "cell_type": "code",
   "execution_count": 111,
   "id": "b96ac6fd",
   "metadata": {},
   "outputs": [
    {
     "name": "stdout",
     "output_type": "stream",
     "text": [
      "Top 4 Jaccard Coefficient predictions:\n",
      "+-----+-----+-----+\n",
      "|   u |   v |   p |\n",
      "|-----+-----+-----|\n",
      "|   4 |  46 |   1 |\n",
      "|   4 |  47 |   1 |\n",
      "|   4 |  49 |   1 |\n",
      "|  23 |  34 |   1 |\n",
      "+-----+-----+-----+\n",
      "Min non-zero Jaccard Coefficient:  [0.5, 0.5, 0.5, 0.5, 0.5, 0.5, 0.5, 0.5, 0.5, 0.5, 0.5, 0.5, 0.5, 0.5, 0.5, 0.5, 0.5, 0.5, 0.5, 0.5, 0.5, 0.5, 0.5, 0.5, 0.5, 0.5, 0.5, 0.5, 0.5, 0.5, 0.5, 0.5, 0.5, 0.5, 0.5, 0.5, 0.5, 0.5, 0.5, 0.5, 0.5, 0.5, 0.5, 0.5, 0.5, 0.5, 0.5, 0.5, 0.5, 0.5, 0.5, 0.5, 0.5, 0.5, 0.5, 0.5, 0.5, 0.5, 0.5, 0.5, 0.5, 0.5, 0.5, 0.5, 0.5, 0.5, 0.5, 0.5, 0.5, 0.5, 0.5, 0.5, 0.5, 0.5, 0.5, 0.5, 0.5, 0.5, 0.5, 0.5, 0.5, 0.5, 0.5, 0.5, 0.3333333333333333, 0.3333333333333333, 0.3333333333333333, 0.3333333333333333, 0.3333333333333333, 0.3333333333333333, 0.3333333333333333, 0.3333333333333333, 0.3333333333333333, 0.3333333333333333, 0.3333333333333333, 0.3333333333333333, 0.3333333333333333, 0.3333333333333333, 0.3333333333333333, 0.3333333333333333, 0.3333333333333333, 0.3333333333333333, 0.3333333333333333, 0.3333333333333333, 0.3333333333333333, 0.3333333333333333, 0.3333333333333333, 0.3333333333333333, 0.3333333333333333, 0.3333333333333333, 0.3333333333333333, 0.3333333333333333, 0.3333333333333333, 0.3333333333333333, 0.3333333333333333, 0.3333333333333333, 0.3333333333333333, 0.3333333333333333, 0.3333333333333333, 0.3333333333333333, 0.3333333333333333, 0.3333333333333333, 0.3333333333333333, 0.3333333333333333, 0.3333333333333333, 0.3333333333333333, 0.3333333333333333, 0.3333333333333333, 0.3333333333333333, 0.3333333333333333, 0.3333333333333333, 0.3333333333333333, 0.3333333333333333, 0.3333333333333333, 0.3333333333333333, 0.3333333333333333, 0.3333333333333333, 0.3333333333333333, 0.3333333333333333, 0.3333333333333333, 0.3333333333333333, 0.3333333333333333, 0.3333333333333333, 0.3333333333333333, 0.3333333333333333, 0.3333333333333333, 0.3333333333333333, 0.3333333333333333, 0.3333333333333333, 0.3333333333333333, 0.3333333333333333, 0.3333333333333333, 0.3333333333333333, 0.3333333333333333, 0.3333333333333333, 0.3333333333333333, 0.3333333333333333, 0.3333333333333333, 0.3333333333333333, 0.25, 0.25, 0.25, 0.25, 0.25, 0.25, 0.25, 0.25, 0.25, 0.25, 0.25, 0.25, 0.25, 0.25, 0.25, 0.25, 0.25, 0.25, 0.25, 0.25, 0.25, 0.25, 0.25, 0.25, 0.25, 0.25, 0.25, 0.25, 0.25, 0.25, 0.25, 0.25, 0.25, 0.25, 0.25, 0.25, 0.25, 0.25, 0.25, 0.25, 0.25, 0.25, 0.2, 0.2, 0.2, 0.2, 0.2, 0.2, 0.2, 0.2, 0.2, 0.2, 0.2, 0.2, 0.2, 0.2, 0.2, 0.2, 0.2, 0.2, 0.2, 0.16666666666666666, 0.16666666666666666, 0.16666666666666666, 0.16666666666666666, 0.16666666666666666, 0.16666666666666666, 0.16666666666666666, 0.16666666666666666, 0.16666666666666666, 0.16666666666666666, 0.16666666666666666, 0.16666666666666666, 0.16666666666666666, 0.16666666666666666, 0.16666666666666666, 0.16666666666666666, 0.16666666666666666, 0.16666666666666666, 0.16666666666666666, 0.16666666666666666, 0.14285714285714285, 0.14285714285714285, 0.14285714285714285, 0.14285714285714285, 0.14285714285714285, 0.14285714285714285, 0.14285714285714285, 0.14285714285714285, 0.14285714285714285, 0.14285714285714285, 0.125, 0.125, 0.125, 0.125, 0.125, 0.125, 0.1111111111111111, 0.1111111111111111, 0.09090909090909091, 0.08333333333333333, 0.07692307692307693, 0.07142857142857142]\n"
     ]
    }
   ],
   "source": [
    "# k = 18604 mod 10 = 4\n",
    "# find the 4 highest scores\n",
    "\n",
    "JC_sorted = sorted(JC_preds, key=lambda x: x[2], reverse=True) \n",
    "print(\"Top 4 Jaccard Coefficient predictions:\")\n",
    "print(tabulate(JC_sorted[:4], headers=[\"u\",\"v\",\"p\"], tablefmt='psql'))\n",
    "# # hold the non-zero min \n",
    "min_nonzero = []\n",
    "#tmp = 1.0\n",
    "#cnt = 0\n",
    "for i in JC_sorted:\n",
    "    if i[2] != 0.0 and i[2] != 1.0:#i[2] < tmp:\n",
    "        min_nonzero.append(i[2])\n",
    "        #tmp = i[2]\n",
    "\n",
    "print(\"Min non-zero Jaccard Coefficient: \", min_nonzero)"
   ]
  },
  {
   "attachments": {},
   "cell_type": "markdown",
   "id": "a1e0d0c4",
   "metadata": {},
   "source": [
    "- **2(iii).** Προσδιορίστε για την μέτρηση της απόδοσης της μετρικής $JC$ τα μεγέθη $Precision$, $Recall$ και $Accuracy$ και αναπαραστήστε τα γραφικά για τιμές κατωφλίου: $0.1$, $0.15$, $0.25$, $0.5$, $1.0$.  <BR></BR>\n",
    "    $Precision=\\frac{TP}{TP+FP}$, όπου $TP$: αληθώς θετικά αποτελέσματα, $FP$: ψευδώς θετικά αποτελέσματα </BR>\n",
    "    $Recall=\\frac{TP}{TP+FN}$, όπου $TP$: αληθώς θετικά αποτελέσματα, $FN$: ψευδώς αρνητικά αποτελέσματα \n",
    "    $Accuracy=\\frac{TP+TN}{TP+FN+TN+FP}$, όπου $TP$: αληθώς θετικά αποτελέσματα, $TN$: αληθώς αρνητικά αποτελέσματα, $FN$: ψευδώς αρνητικά αποτελέσματα, $FP$: ψευδώς θετικά αποτελέσματα<BR></BR>"
   ]
  },
  {
   "cell_type": "code",
   "execution_count": 110,
   "id": "a7cbdbf1",
   "metadata": {},
   "outputs": [
    {
     "name": "stdout",
     "output_type": "stream",
     "text": [
      "Threshold:  0.1 \n",
      "\tRecall:  0.013100436681222707 \n",
      "\tPrecision:  0.005940594059405941 \n",
      "\tAccuracy:  0.9920783460282916\n",
      "Threshold:  0.15 \n",
      "\tRecall:  0.013100436681222707 \n",
      "\tPrecision:  0.006160164271047228 \n",
      "\tAccuracy:  0.9922742110990207\n",
      "Threshold:  0.25 \n",
      "\tRecall:  0.013100436681222707 \n",
      "\tPrecision:  0.006696428571428571 \n",
      "\tAccuracy:  0.9926985854189336\n",
      "Threshold:  0.5 \n",
      "\tRecall:  0.013100436681222707 \n",
      "\tPrecision:  0.00906344410876133 \n",
      "\tAccuracy:  0.9939717083786724\n",
      "Threshold:  1.0 \n",
      "\tRecall:  0.013100436681222707 \n",
      "\tPrecision:  0.012145748987854251 \n",
      "\tAccuracy:  0.9948857453754081\n"
     ]
    },
    {
     "data": {
      "text/plain": [
       "Text(0.5, 1.0, 'Accuracy')"
      ]
     },
     "execution_count": 110,
     "metadata": {},
     "output_type": "execute_result"
    },
    {
     "data": {
      "image/png": "[encoded data removed]",
      "text/plain": [
       "<Figure size 1000x500 with 1 Axes>"
      ]
     },
     "metadata": {},
     "output_type": "display_data"
    },
    {
     "data": {
      "image/png": "[encoded data removed]",
      "text/plain": [
       "<Figure size 1000x1000 with 1 Axes>"
      ]
     },
     "metadata": {},
     "output_type": "display_data"
    },
    {
     "data": {
      "image/png": "[encoded data removed]",
      "text/plain": [
       "<Figure size 1000x1000 with 1 Axes>"
      ]
     },
     "metadata": {},
     "output_type": "display_data"
    }
   ],
   "source": [
    "from sklearn.metrics import recall_score\n",
    "from sklearn.metrics import precision_score\n",
    "from sklearn.metrics import accuracy_score\n",
    "import matplotlib.pyplot as plt\n",
    "\n",
    "def JCfunction(threshold,vals_pred, actual_vals):\n",
    "    pred = np.where( vals_pred >= threshold, 1.0, 0.0)\n",
    "    recall_jc = recall_score(actual_vals , pred)\n",
    "    precision_jc = precision_score(actual_vals , pred)\n",
    "    accuracy_jc = accuracy_score(actual_vals , pred)\n",
    "    return recall_jc, precision_jc, accuracy_jc\n",
    "\n",
    "\n",
    "threshold_jc = [0.1,0.15,0.25,0.5,1.0]\n",
    "JC_vals = np.array([x[2] for x in JC_preds])\n",
    "links = list(df_merged['link'])\n",
    "results = []\n",
    "for t in threshold_jc:\n",
    "    recall_jc, precision_jc, accuracy_jc = JCfunction(t,JC_vals,links)\n",
    "    results.append((t,recall_jc,precision_jc,accuracy_jc))\n",
    "    print(\"Threshold: \", t, \"\\n\\tRecall: \", recall_jc, \"\\n\\tPrecision: \", precision_jc, \"\\n\\tAccuracy: \", accuracy_jc)\n",
    "\n",
    "\n",
    "plt.figure(1,figsize=(10,5))\n",
    "plt.plot([x[0] for x in results], [x[1] for x in results], 'tab:blue')\n",
    "plt.title('Recall')\n",
    "\n",
    "plt.figure(2,figsize=(10,10))\n",
    "plt.plot([x[0] for x in results], [x[2] for x in results], 'tab:orange')\n",
    "plt.title('Precision')\n",
    "\n",
    "plt.figure(3,figsize=(10,10))\n",
    "plt.plot([x[0] for x in results], [x[3] for x in results], 'tab:green')\n",
    "plt.title('Accuracy')\n"
   ]
  },
  {
   "attachments": {},
   "cell_type": "markdown",
   "id": "d432396f",
   "metadata": {},
   "source": [
    "<html><font size=4><B>3. Πρόβλεψη συνδέσμων βάσει similarity-based μετρικών</B></font>    \n",
    "        <li><B>3(i).</B> Προτείνετε μια τουλάχιστον μέθοδο, για να εξερευνήσουμε και να εκφράσουμε μέσα από τα πακέτα NumPy ή SciPy ή Pandas την συσχέτιση (correlation) μεταξύ των τιμών των μετρικών <B>Jaccard Coefficient</B>, <B>Preferential Attachment</B>, <B>Resource Allocation</B> για τον μειωμένο γράφο G'. Σημ.: Δεν χρειάζεται κάποια υλοποίηση, μόνο αναφορά της μεθόδου συσχέτισης και επεξήγηση της επιλογής σας.\n",
    "     <li><B>3(ii).</B> Εργαστείτε πάνω σε <B><U>αντίγραφο</U></B> του dataframe που κατασκευάσατε στο ερώτημα 1(vα) (unconnected+removables). Δημιουργήστε στήλη (column) με τις ακμές του γράφου και θέστε την ως index του dataframe. Στο dataframe θα προσθέσετε ως στήλες τις τιμές των μετρικών (<B>Jaccard Coefficient</B>, <B>Preferential Attachment</B>, <B>Resource Allocation</B>) για τον μειωμένο γράφο G'. Οι τιμές των μετρικών μπορούν να υπολογιστούν με τις συναρτήσεις του πακέτου NetworkX.</li>   </font></html>\n",
    "    \n",
    "    |       | link  |Jacc.Coeff.|Pr.Attachment| Resource Allocation|\n",
    "    |-------|-------|-----------|-------------|--------------------|\n",
    "    |(1, 6) |  0    |  0.333333 |     32      |    0.700000        |\n",
    "    |(1, 46)|  0    |  0.200000 |      8      |    0.166667        |"
   ]
  },
  {
   "cell_type": "code",
   "execution_count": null,
   "id": "7c40c8d6",
   "metadata": {},
   "outputs": [],
   "source": [
    "#replicate of the dataframe \"unconnected+removables\"---dataframe will be used again in (4)"
   ]
  },
  {
   "cell_type": "code",
   "execution_count": null,
   "id": "8c65a3e6",
   "metadata": {},
   "outputs": [],
   "source": [
    "#dataframe for similarity-based measurement values\n",
    "#Jaccard Coefficient\n",
    "\n",
    "#Preferential Attachment\n",
    "\n",
    "#Resource Allocation"
   ]
  },
  {
   "cell_type": "markdown",
   "id": "76f9318d",
   "metadata": {},
   "source": [
    "<li><B>3(iiiα).</B> Χρησιμοποιήστε τον Random Forest Classifier και το αντίγραφο dataframe που κατασκευάσατε στο ερώτημα 3(ii), για να προβλέψετε συνδέσεις. Συμπληρώστε στον κώδικα: τα features ($X$), την target variable ($y$) και τα ορίσματα της συνάρτησης $fit$ για το training του μοντέλου.</li>\n",
    "<li><B>3(iiiβ).</B> Δώστε τις ($A.M$ $mod$ $10$) πρώτες προβλέψεις και την ακρίβεια ($accuracy$) του μοντέλου. </li>\n",
    "<li><B>3(iiiγ).</B>Υπολογίστε την πιθανότητα να συνδεθούν οι κόμβοι ($1$,$47$) βάσει του μοντέλου σας. </li>  "
   ]
  },
  {
   "cell_type": "code",
   "execution_count": null,
   "id": "df4a65f5",
   "metadata": {},
   "outputs": [],
   "source": [
    "#uncomment whole cell\n",
    "#from sklearn.model_selection import train_test_split\n",
    "#from sklearn.ensemble import RandomForestClassifier\n",
    "#from sklearn.metrics import accuracy_score\n",
    "#from sklearn.model_selection import GridSearchCV\n",
    " \n",
    "#X =             #features, uncomment and complete\n",
    "#y = ...['link'] #target, uncomment and complete\n",
    "\n",
    "#X_train, X_test, y_train, y_test = train_test_split(, , random_state = 0) #uncomment and complete"
   ]
  },
  {
   "cell_type": "code",
   "execution_count": null,
   "id": "26affc3a",
   "metadata": {},
   "outputs": [],
   "source": [
    "#uncomment whole cell\n",
    "#classifier = RandomForestClassifier()   \n",
    "\n",
    "#from sklearn.preprocessing import MinMaxScaler \n",
    "#mm_scaler = MinMaxScaler() \n",
    "#X_train_scaled = mm_scaler.fit_transform(X_train)\n",
    "#X_test_scaled = mm_scaler.transform(X_test)\n",
    "\n",
    "#parameters = {'n_estimators' : [10,50,100], 'max_depth' : [5,10,15]} \n",
    "#model = GridSearchCV(classifier, param_grid = parameters) "
   ]
  },
  {
   "cell_type": "code",
   "execution_count": null,
   "id": "431e2d35",
   "metadata": {},
   "outputs": [],
   "source": [
    "#model.fit(X_train_scaled, )#train the model, uncomment and complete"
   ]
  },
  {
   "cell_type": "code",
   "execution_count": null,
   "id": "1b075584",
   "metadata": {},
   "outputs": [],
   "source": [
    "#predictions = model.predict(X_test_scaled)       #uncomment\n",
    "#predictions[ ] #get (A.M. last digit) first predictions, uncomment and complete"
   ]
  },
  {
   "cell_type": "code",
   "execution_count": null,
   "id": "b042eca7",
   "metadata": {},
   "outputs": [],
   "source": [
    "#predict_proba = model.predict_proba(...) #uncomment and complete"
   ]
  },
  {
   "cell_type": "markdown",
   "id": "f4c43988",
   "metadata": {},
   "source": [
    "<html><font size=4><B>4. Πρόβλεψη συνδέσμων με embedding βασισμένο σε τυχαίους περιπάτους (Random Walks) </B></font><BR><BR>\n",
    "    <li><B>4(i).</B> Εξάγετε τα χαρακτηριστικά (features) του γράφου $G'$, που προέκυψε από την αφαίρεση των ακμών. Για τον σκοπό αυτό χρησιμοποιήστε τον αλγόριθμο <B>Node2vec</B> <a href=\"https://cs.stanford.edu/~jure/pubs/node2vec-kdd16.pdf\">[3]</a>. Ο αλγόριθμος αντιστοιχίζει τους κόμβους του γράφου μέσω τυχαίων περιπάτων (biased 2nd order random walks) σε ένα χώρο μικρού αριθμού διαστάσεων (low dimensional space) διατηρώντας την μεταξύ τους γειτνίαση.\n",
    "        <BR>Για την επιλογή των παραμέτρων: \n",
    "            <li>p - παράμετρος τυχαίων περιπάτων p που καθορίζει την πιθανότητα “1/p” επιστροφής στον κόμβο προέλευσης (source node), </li>\n",
    "                <li>q - παράμετρος τυχαίων περιπάτων q που καθορίζει την πιθανότητα  “1/q” μετακίνησης σε κόμβο μακριά από τον κόμβο προέλευσης (source node), </li>\n",
    "                 <li>dimensions - πλήθος διαστάσεων των Node2Vec embeddings, </li>\n",
    "                     <li>num_walks - αριθμός περιπάτων από κάθε κόμβο, </li>\n",
    "                         <li>walk_length - μήκος τυχαίου περιπάτου, </li>\n",
    "                             <li>window_size - μέγεθος παραθύρου context για τον αλγόριθμο Word2Vec, </li><li>num_iter - αριθμός SGD επαναλήψεων (epochs), </li>\n",
    "            <li>workers - αριθμός workers για τον Word2Vec,</li>\n",
    "            χρησιμοποιήστε τις τιμές:   </html>\n",
    "   \n",
    "                   "
   ]
  },
  {
   "cell_type": "markdown",
   "id": "fdbc5274",
   "metadata": {},
   "source": [
    " |   p   |   q   | dimensions|  num_walks  |walk_length |window_size|        workers            |\n",
    " |-------|-------|-----------|-------------|------------|-----------|---------------------------|\n",
    " |  1.0  |  1.0  |  128      |     10      |    80      |     10    |multiprocessing.cpu_count()|"
   ]
  },
  {
   "cell_type": "code",
   "execution_count": null,
   "id": "aa8e668d",
   "metadata": {},
   "outputs": [],
   "source": [
    "#install node2vec with conda / pip\n",
    "#from node2vec import Node2Vec   #uncomment\n",
    "#import multiprocessing          #uncomment\n",
    "\n",
    "#generate walks\n",
    "#node2vec_walker = Node2Vec(, , , , , , ) #uncomment and complete\n",
    "\n",
    "#train node2vec model\n",
    "#n2v_model = node2vec_walker.fit(window= , min_count=1) #uncomment and complete"
   ]
  },
  {
   "cell_type": "markdown",
   "id": "294f0aab",
   "metadata": {},
   "source": [
    "<html><font>\n",
    "    <li><B>4(ii).</B> Εφαρμόστε τον αλγόριθμο Random Forest Classifier, για να προβλέψετε τις συνδέσεις.</li><BR>\n",
    "    <li><B>4(iii).</B> Υπολογίστε την ακρίβεια ($accuracy$) του μοντέλου. </li><BR></font></html>"
   ]
  },
  {
   "cell_type": "code",
   "execution_count": null,
   "id": "6269b89a",
   "metadata": {},
   "outputs": [],
   "source": [
    "#apply trained Node2Vec model on each node pair of the dataframe \"unconnected+removables\"\n",
    "#uncomment:\n",
    "#x = [(n2v_model.wv[str(i)]+n2v_model.wv[str(j)]) for i,j in zip(df_with_target_var['node_1'], df_with_target_var['node_2'])]"
   ]
  },
  {
   "cell_type": "code",
   "execution_count": null,
   "id": "b74e7aa7",
   "metadata": {},
   "outputs": [],
   "source": [
    "#X_train, X_test, y_train, y_test = train_test_split(, , random_state = 0)  #uncomment and complete"
   ]
  },
  {
   "cell_type": "code",
   "execution_count": null,
   "id": "e75cfde7",
   "metadata": {},
   "outputs": [],
   "source": [
    "#uncomment whole cell\n",
    "#from sklearn.ensemble import RandomForestClassifier\n",
    "#from sklearn.metrics import accuracy_score\n",
    "\n",
    "#classifier = RandomForestClassifier(max_depth=2, random_state=0) \n",
    "#classifier.fit()   #uncomment and complete"
   ]
  },
  {
   "cell_type": "markdown",
   "id": "a0c0b3bb",
   "metadata": {},
   "source": [
    "<html><font size=4> <B><U>Ερώτηση bonus (+10/100)</U><B>: </font>Για τους binary operators για learning των edge features με τον αλγόριθμο Node2Vec που αναφέρονται στο <a href=\"https://cs.stanford.edu/~jure/pubs/node2vec-kdd16.pdf\">[3]</a> ((α) Average, (β) Hadamard, (γ) Weighted-L1 και (δ) Weighted-L2) τροποποιήστε τoν κώδικά σας και σημειώστε τις παρατηρήσεις σας ως προς την απόδοση του αλγορίθμου.</font></html>"
   ]
  },
  {
   "cell_type": "markdown",
   "id": "8da3a402",
   "metadata": {},
   "source": [
    "<html><font size=4><B><U>Βιβλιογραφία:</U></B><BR></font>\n",
    "<a href=\"https://dl.acm.org/doi/10.1145/2487788.2488173\">[1]\tJérôme Kunegis. KONECT – The Koblenz Network Collection. In Proc. Int. Conf. on World Wide Web Companion, pages 1343–1350, 2013.</a><BR>\n",
    "<a href=\"https://link.springer.com/chapter/10.1007/978-3-540-76298-0_52\">[2]\tSören Auer, Christian Bizer, Georgi Kobilarov, Jens Lehmann, Richard Cyganiak, and Zachary Ives. DBpedia: A nucleus for a web of open data. In Proc. Int. Semant. Web Conf., pages 722–735, 2008.<BR>\n",
    "<a href=\"https://cs.stanford.edu/~jure/pubs/node2vec-kdd16.pdf\">[3] A. Grover, J. Leskovec, Node2vec: Scalable Feature Learning for Networks. ACM KDD, 2016.</a><BR>\n",
    " <a href=\"https://proceedings.neurips.cc/paper/2013/file/9aa42b31882ec039965f3c4923ce901b-Paper.pdf\">[4] T.Mikolov, I.Sutskever, K.Chen, G.S.Corrado and J.Dean, Distributed representations of words and phrases and their compositionality. In NIPS, 2013.</a><BR></font></html>"
   ]
  },
  {
   "cell_type": "code",
   "execution_count": null,
   "id": "89f16b76",
   "metadata": {},
   "outputs": [],
   "source": []
  }
 ],
 "metadata": {
  "kernelspec": {
   "display_name": "Python 3",
   "language": "python",
   "name": "python3"
  },
  "language_info": {
   "codemirror_mode": {
    "name": "ipython",
    "version": 3
   },
   "file_extension": ".py",
   "mimetype": "text/x-python",
   "name": "python",
   "nbconvert_exporter": "python",
   "pygments_lexer": "ipython3",
   "version": "3.8.10"
  },
  "vscode": {
   "interpreter": {
    "hash": "916dbcbb3f70747c44a77c7bcd40155683ae19c65e1c03b4aa3499c5328201f1"
   }
  }
 },
 "nbformat": 4,
 "nbformat_minor": 5
}
