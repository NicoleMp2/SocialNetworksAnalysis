version https://git-lfs.github.com/spec/v1
oid sha256:cf2a0fbb8fe13a3fa16d7e67104c6e34245053f5d234dbd2890a18a05ef0fd65
size 27918
